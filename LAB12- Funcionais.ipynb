{
 "cells": [
  {
   "cell_type": "markdown",
   "id": "86f7a136",
   "metadata": {},
   "source": [
    "### Fundamentos da Programação - Aula Laboratorial 12 \n",
    "# Funções de ordem superior: Funcionais sobre listas\n",
    "\n",
    "#### 1. \n",
    "A função somatorio"
   ]
  },
  {
   "cell_type": "code",
   "execution_count": 169,
   "id": "d365b823",
   "metadata": {},
   "outputs": [],
   "source": [
    "def somatorio(l_inf, l_sup, calc_termo, prox):\n",
    "    soma = 0\n",
    "    while l_inf <= l_sup:\n",
    "        soma = soma + calc_termo(l_inf)\n",
    "        l_inf = prox(l_inf)\n",
    "    return soma"
   ]
  },
  {
   "cell_type": "markdown",
   "id": "787a8749",
   "metadata": {},
   "source": [
    "é apenas a mais simples de um vasto número de abstracções semelhantes que podem ser capturadas por funções de ordem superior. Por exemplo, podemos usar a função somatorio para somar os quadrados dos múltiplos de 3 entre 9 e 21:"
   ]
  },
  {
   "cell_type": "code",
   "execution_count": 74,
   "id": "8784e307",
   "metadata": {},
   "outputs": [
    {
     "data": {
      "text/plain": [
       "1215"
      ]
     },
     "execution_count": 74,
     "metadata": {},
     "output_type": "execute_result"
    }
   ],
   "source": [
    "somatorio(9, 21, lambda x : x * x, lambda x : x + 3)"
   ]
  },
  {
   "cell_type": "markdown",
   "id": "2cb4c9fb",
   "metadata": {},
   "source": [
    "Diga o que fazem as seguintes utilizações da função somatorio:\n",
    "* (a) *somatorio(4, 500, lambda x: x, lambda x: x + 1)*\n",
    "* (b) *somatorio(5, 500, lambda x: x * x, lambda x: x + 5)*\n",
    "* (c) *somatorio(1, 5,lambda x: somatorio(1,x,lambda x: x,lambda x: x+1),lambda x: x+1)*"
   ]
  },
  {
   "cell_type": "markdown",
   "id": "822e4824",
   "metadata": {},
   "source": [
    "#### 2. \n",
    "* (a) Defina a função **produtorio** que calcula o produto dos termos de uma função entre dois limites especificados.\n",
    "* (b) Mostre como definir o **factorial** em termos da utilização da função piatorio."
   ]
  },
  {
   "cell_type": "markdown",
   "id": "4f7e5b4c",
   "metadata": {},
   "source": [
    "#### 3. \n",
    "Considere a função **soma_fn** que recebe um número inteiro positivo, $n$, e uma função de um argumento inteiro, **fn**, e devolve a soma de todos os valores da função entre $1$ e $n$. A função **soma_fn** não verifica a correção do seu argumento nem usa funcionais sobre listas. Por exemplo,\n",
    "\n",
    "`soma_fn(4, lambda x: x * x)`\n",
    "\n",
    "`30`\n",
    "\n",
    "`soma_fn(4, lambda x: x + 1)`\n",
    "\n",
    "`14`\n",
    "* (a) Escreva a função **soma_fn** usando um ciclo **for**\n",
    "* (b) Escreva a função **soma_fn** usando recursão."
   ]
  },
  {
   "cell_type": "markdown",
   "id": "a6416531",
   "metadata": {},
   "source": [
    "#### 4.\n",
    "Usando *recursão*, defina os seguintes funcionais sobre listas:\n",
    "* (a) **filtra(lst, tst)** que devolve a lista obtida a partir da lista *lst* que apenas contém os elementos que satisfazem o predicado de um argumento *tst*. Por exemplo,\n",
    "\n",
    "`filtra([1, 2, 3, 4, 5], lambda x : x % 2 == 0)`\n",
    "\n",
    "`[2, 4]`\n",
    "\n",
    "* (b) **transforma(lst, fn)** que devolve a lista obtida a partir da lista *lst* cujos elementos correspondem à aplicação da função de um argumento **fn** aos elementos de *lst*. Por exemplo,\n",
    "\n",
    "`transforma([1, 2, 3, 4], lambda x : x ** 3)`\n",
    "\n",
    "`[1, 8, 27, 64]`\n",
    "\n",
    "* (c) **acumula(lst, fn)** que devolve o valor obtido da aplicação da função de dois argumentos **fn** a todos os elementos da lista *lst*. Por exemplo,\n",
    "\n",
    "`acumula([1, 2, 3, 4], lambda x, y : x + y)`\n",
    "\n",
    "`10`"
   ]
  },
  {
   "cell_type": "markdown",
   "id": "2dd8b186",
   "metadata": {},
   "source": [
    "#### 5. \n",
    "Usando os funcionais sobre listas da pergunta anterior, escreva a função **soma_quadrados_impares**, que recebe uma lista de inteiros e devolve a soma dos quadrados dos seus elementos ímpares. A sua função deve conter apenas uma instrução, a instrução *return*. Não é necessário validar os dados de entrada. Por exemplo:\n",
    "\n",
    "`soma_quadrados_impares([1, 2, 3, 4, 5, 6])`\n",
    "\n",
    "`35`"
   ]
  },
  {
   "cell_type": "markdown",
   "id": "08fb30c8",
   "metadata": {},
   "source": [
    "#### 6. \n",
    "Considere a seguinte definição do predicado eh_primo que tem o valor verdadeiro apenas se o seu argumento é um número primo:"
   ]
  },
  {
   "cell_type": "code",
   "execution_count": 31,
   "id": "9d23b2bc",
   "metadata": {},
   "outputs": [],
   "source": [
    "def eh_primo(n):\n",
    "    if n == 1:\n",
    "        return False\n",
    "    else:\n",
    "        for i in range(2, n):\n",
    "            if n % i == 0:\n",
    "                return False\n",
    "        return True"
   ]
  },
  {
   "cell_type": "markdown",
   "id": "5ed82947",
   "metadata": {},
   "source": [
    "Escreva a função de ordem superior, **nao_primos** que recebe um número inteiro positivo, $n$, e devolve todos os números inteiros positivos inferiores ou iguais a $n$ que não são primos. A sua função deve conter apenas uma instrução, a instrução *return*. Por exemplo,"
   ]
  },
  {
   "cell_type": "markdown",
   "id": "dbdaff39",
   "metadata": {},
   "source": [
    "#### 7.\n",
    "Considere a seguinte função que recebe como argumentos um número natural, $num$, e um predicado de um argumento, $p$:"
   ]
  },
  {
   "cell_type": "code",
   "execution_count": 207,
   "id": "ca186def",
   "metadata": {},
   "outputs": [],
   "source": [
    "def misterio(num, p):\n",
    "    if num == 0:\n",
    "        return 0\n",
    "    elif p(num % 10):\n",
    "        return (num % 10) + 10 * misterio(num // 10, p)\n",
    "    else:\n",
    "        return misterio(num // 10, p)"
   ]
  },
  {
   "cell_type": "markdown",
   "id": "9bb9f2e5",
   "metadata": {},
   "source": [
    "* (a) Explique o que faz esta função.\n",
    "* (b) Utilize a função misterio para escrever a função **filtra_pares** que recebe um número inteiro e devolve o número obtido a partir dele que apenas contém dígitos pares. A sua função deve conter apenas uma instrução, a instrução **return**. Por exemplo,\n",
    "\n",
    "`filtra_pares(5467829)\n",
    "4682`"
   ]
  },
  {
   "cell_type": "markdown",
   "id": "5cc0af41",
   "metadata": {},
   "source": [
    "#### 8.\n",
    "Usando funcionais sobre listas, escreva a função **lista_digitos**, que recebe um inteiro positivo $n$ e devolve a lista cujos elementos são os dígitos de $n$. A sua função deve conter apenas uma instrução, a instrução return. \n",
    "**Sugestão**: transforme o número numa cadeia de caracteres. Por exemplo:\n",
    "\n",
    "`lista_digitos(123)`\n",
    "\n",
    "`[1, 2, 3]`"
   ]
  },
  {
   "cell_type": "markdown",
   "id": "30bd310d",
   "metadata": {},
   "source": [
    "#### 9.\n",
    "Usando a função **lista_digitos** do exercício 8 e funcionais sobre listas, escreva a função **produto_digitos**, que recebe um inteiro positivo, $n$, e um predicado de um argumento, *pred*, e devolve o produto dos dígitos de n que satisfazem o predicado pred. A sua função deve conter apenas uma instrução, a instrução **return**. Por exemplo:\n",
    "\n",
    "`produto_digitos(12345, lambda x : x > 3)`\n",
    "\n",
    "`20`"
   ]
  },
  {
   "cell_type": "markdown",
   "id": "69bddf8f",
   "metadata": {},
   "source": [
    "#### 10.\n",
    "Usando a função **lista_digitos** do exercício 8 e funcionais sobre listas, escreva a função **apenas_digitos_impares**, que recebe um inteiro positivo, $n$, e devolve o inteiro constituído pelos dígitos ímpares de $n$. A sua função deve conter apenas uma instrução, a instrução **return**. Por exemplo:\n",
    "\n",
    "`apenas_digitos_impares(12345)`\n",
    "\n",
    "`135`"
   ]
  },
  {
   "cell_type": "markdown",
   "id": "a1cd0f65",
   "metadata": {},
   "source": [
    "#### 11. \n",
    "Note-se que em Python já existe um implementação dos funcionais mais elevantes implementados nas questões anteriores. São eles o `map`, o `reduce`, o `filter`, o `any` e o `all`. Contudo, estes funcionais permitem apenas definir um fragmento das funções computáveis. Em particular, nenhum dos funcionais referidos permite fazer uma computação potencialmente infinita. Para tal é necessário um funcional adicional, muito importante em programação funcioal, e que é apresentado de seguida. \n",
    "\n",
    "Considere o seguinte combinador (funcional) que calcula o ponto fixo de uma função $f$ de um argumento, começando com o argumento $x$:"
   ]
  },
  {
   "cell_type": "code",
   "execution_count": 58,
   "id": "44c5cc35",
   "metadata": {},
   "outputs": [],
   "source": [
    "def fixedPoint(f,x):\n",
    "    while x != f(x):\n",
    "        x = f(x)\n",
    "    return x"
   ]
  },
  {
   "cell_type": "markdown",
   "id": "4253bde7",
   "metadata": {},
   "source": [
    "Usando o **fixedpoint** e definindo uma função pura adequada (sem ciclos nem recursão), escreva uma função que calcula:\n",
    "* (a) o número de dígitos de um número natural $n$, **num_dig**\n",
    "* (b) a lista de inteiros que resulta de filtrar da lista de inteiros argumento, $w$, os números pares, **filtra_pares**\n",
    "* (c) o primeiro dígitos de um número natural $n$, **prim_alg**"
   ]
  },
  {
   "cell_type": "markdown",
   "id": "c64a72df",
   "metadata": {},
   "source": [
    "#### 12. \n",
    "Recorrendo apenas a funções puras e aos funcionais `map`, `reduce`, `filter`, `any`, `all` e `fixedPoint`: \n",
    "\n",
    "* (a) defina o funcional **nest** que recebe como argumentos uma função $f$, um elemento $x$ e um inteiro não negativo $n$ e retorna \n",
    "$$f^n(x) = \\underbrace{f(f(\\dots f}_{n\\text{ vezes}}(x)))$$\n",
    "\n",
    "* (b) usando apenas o funcional `nest` e funções puras, defina a função pedida em **12\\. (c)**"
   ]
  },
  {
   "cell_type": "markdown",
   "id": "876f3023",
   "metadata": {},
   "source": [
    "#### 13.\n",
    "Recorrendo apenas a funções puras e aos funcionais `map`, `reduce`, `filter`, `any`, `all`, `nest` e `fixedPoint`, resolva os exercícios passados sobre ciclos e recursão. "
   ]
  }
 ],
 "metadata": {
  "kernelspec": {
   "display_name": "Python 3 (ipykernel)",
   "language": "python",
   "name": "python3"
  },
  "language_info": {
   "codemirror_mode": {
    "name": "ipython",
    "version": 3
   },
   "file_extension": ".py",
   "mimetype": "text/x-python",
   "name": "python",
   "nbconvert_exporter": "python",
   "pygments_lexer": "ipython3",
   "version": "3.8.16"
  }
 },
 "nbformat": 4,
 "nbformat_minor": 5
}
