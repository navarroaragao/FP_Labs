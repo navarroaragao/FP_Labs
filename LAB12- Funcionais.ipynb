{
 "cells": [
  {
   "cell_type": "markdown",
   "id": "86f7a136",
   "metadata": {},
   "source": [
    "### Fundamentos da Programação - Aula Laboratorial 12 \n",
    "# Funções de ordem superior: Funcionais sobre listas\n",
    "\n",
    "#### 1. \n",
    "O *funcional* (*função de ordem superior* ou *combinador*) somatorio"
   ]
  },
  {
   "cell_type": "code",
   "execution_count": 169,
   "id": "d365b823",
   "metadata": {},
   "outputs": [],
   "source": [
    "def somatorio(l_inf, l_sup, calc_termo, prox):\n",
    "    soma = 0\n",
    "    while l_inf <= l_sup:\n",
    "        soma = soma + calc_termo(l_inf)\n",
    "        l_inf = prox(l_inf)\n",
    "    return soma"
   ]
  },
  {
   "cell_type": "markdown",
   "id": "787a8749",
   "metadata": {},
   "source": [
    "é apenas a mais simples de um vasto número de abstracções semelhantes que podem ser capturadas por funções de ordem superior. Por exemplo, podemos usar a função somatorio para somar os quadrados dos múltiplos de 3 entre 9 e 21:"
   ]
  },
  {
   "cell_type": "code",
   "execution_count": 74,
   "id": "8784e307",
   "metadata": {},
   "outputs": [
    {
     "data": {
      "text/plain": [
       "1215"
      ]
     },
     "execution_count": 74,
     "metadata": {},
     "output_type": "execute_result"
    }
   ],
   "source": [
    "somatorio(9, 21, lambda x : x * x, lambda x : x + 3)"
   ]
  },
  {
   "cell_type": "markdown",
   "id": "2cb4c9fb",
   "metadata": {},
   "source": [
    "Diga o que fazem as seguintes utilizações da função somatorio:\n",
    "* (a) *somatorio(4, 500, lambda x: x, lambda x: x + 1)*\n",
    "* (b) *somatorio(5, 500, lambda x: x * x, lambda x: x + 5)*\n",
    "* (c) *somatorio(1, 5,lambda x: somatorio(1,x,lambda x: x,lambda x: x+1),lambda x: x+1)*"
   ]
  },
  {
   "cell_type": "markdown",
   "id": "822e4824",
   "metadata": {},
   "source": [
    "#### 2. \n",
    "* (a) Defina o funcional `produtorio` que calcula o produto dos termos de uma função entre dois limites especificados.\n",
    "* (b) Mostre como definir o `factorial` em termos da utilização da função produtório."
   ]
  },
  {
   "cell_type": "markdown",
   "id": "4f7e5b4c",
   "metadata": {},
   "source": [
    "#### 3. \n",
    "Considere a função `soma_fn` que recebe um número inteiro positivo, $n$, e uma função de um argumento inteiro, `fn`, e devolve a soma de todos os valores da função entre $1$ e $n$. A função `soma_fn` não verifica a correção do seu argumento nem usa funcionais sobre listas. Por exemplo,\n",
    "\n",
    "`soma_fn(4, lambda x: x * x)`\n",
    "\n",
    "`30`\n",
    "\n",
    "`soma_fn(4, lambda x: x + 1)`\n",
    "\n",
    "`14`\n",
    "* (a) Escreva a função `soma_fn` usando um ciclo `for`\n",
    "* (b) Escreva a função `soma_fn` usando recursão."
   ]
  },
  {
   "cell_type": "markdown",
   "id": "a6416531",
   "metadata": {},
   "source": [
    "#### 4.\n",
    "Usando *recursão*, defina os seguintes funcionais sobre listas:\n",
    "* (a) `filtra(lst, tst)` que devolve a lista obtida a partir da lista *lst* que apenas contém os elementos que satisfazem o predicado de um argumento *tst*. Por exemplo,\n",
    "\n",
    "```Python\n",
    "filtra([1, 2, 3, 4, 5], lambda x : x % 2 == 0)\n",
    "[2, 4]\n",
    "```\n",
    "\n",
    "\n",
    "* (b) `transforma(lst, fn)` que devolve a lista obtida a partir da lista *lst* cujos elementos correspondem à aplicação da função de um argumento `fn` aos elementos de *lst*. Por exemplo,\n",
    "\n",
    "```Python\n",
    "transforma([1, 2, 3, 4], lambda x : x ** 3)\n",
    "[1, 8, 27, 64]\n",
    "```\n",
    "\n",
    "* (c) `acumula(lst, fn)` que devolve o valor obtido da aplicação da função de dois argumentos `fn` a todos os elementos da lista *lst*. Por exemplo,\n",
    "\n",
    "```Python\n",
    "acumula([1, 2, 3, 4], lambda x, y : x + y)\n",
    "10\n",
    "```"
   ]
  },
  {
   "cell_type": "markdown",
   "id": "2dd8b186",
   "metadata": {},
   "source": [
    "#### 5. \n",
    "Usando os funcionais sobre listas da pergunta anterior, escreva a função `soma_quadrados_impares`, que recebe uma lista de inteiros e devolve a soma dos quadrados dos seus elementos ímpares. A sua função deve conter apenas uma instrução, a instrução `return`. Não é necessário validar os dados de entrada. Por exemplo:\n",
    "\n",
    "```Python\n",
    "soma_quadrados_impares([1, 2, 3, 4, 5, 6])\n",
    "35\n",
    "```"
   ]
  },
  {
   "cell_type": "markdown",
   "id": "08fb30c8",
   "metadata": {},
   "source": [
    "#### 6. \n",
    "Considere a seguinte definição do predicado eh_primo que tem o valor verdadeiro apenas se o seu argumento é um número primo:"
   ]
  },
  {
   "cell_type": "code",
   "execution_count": 13,
   "id": "9d23b2bc",
   "metadata": {},
   "outputs": [],
   "source": [
    "def eh_primo(n):\n",
    "    for i in range(2, n):\n",
    "        if n % i == 0:\n",
    "            return False\n",
    "    return n != 1"
   ]
  },
  {
   "cell_type": "markdown",
   "id": "5ed82947",
   "metadata": {},
   "source": [
    "Escreva a função de ordem superior, `nao_primos` que recebe um número inteiro positivo, $n$, e devolve todos os números inteiros positivos inferiores ou iguais a $n$ que não são primos. A sua função deve conter apenas uma instrução, a instrução `return`. Por exemplo,\n",
    "\n",
    "```Python\n",
    "nao_primos(8)\n",
    "[1,4,6,8]\n",
    "```"
   ]
  },
  {
   "cell_type": "markdown",
   "id": "dbdaff39",
   "metadata": {},
   "source": [
    "#### 7.\n",
    "Considere a seguinte função que recebe como argumentos um número natural, $num$, e um predicado de um argumento, $p$:"
   ]
  },
  {
   "cell_type": "code",
   "execution_count": 207,
   "id": "ca186def",
   "metadata": {},
   "outputs": [],
   "source": [
    "def misterio(num, p):\n",
    "    if num == 0:\n",
    "        return 0\n",
    "    elif p(num % 10):\n",
    "        return (num % 10) + 10 * misterio(num // 10, p)\n",
    "    else:\n",
    "        return misterio(num // 10, p)"
   ]
  },
  {
   "cell_type": "markdown",
   "id": "9bb9f2e5",
   "metadata": {},
   "source": [
    "* (a) Explique o que faz esta função.\n",
    "* (b) Utilize a função misterio para escrever a função `filtra_pares` que recebe um número inteiro e devolve o número obtido a partir dele que apenas contém dígitos pares. A sua função deve conter apenas uma instrução, a instrução `return`. Por exemplo,\n",
    "\n",
    "```Python\n",
    "filtra_pares(5467829)\n",
    "4682\n",
    "```"
   ]
  },
  {
   "cell_type": "markdown",
   "id": "5cc0af41",
   "metadata": {},
   "source": [
    "#### 8.\n",
    "Usando funcionais sobre listas, escreva a função `lista_digitos`, que recebe um inteiro positivo $n$ e devolve a lista cujos elementos são os dígitos de $n$. A sua função deve conter apenas uma instrução, a instrução `return`. \n",
    "**Sugestão**: transforme o número numa cadeia de caracteres. Por exemplo:\n",
    "\n",
    "```Python\n",
    "lista_digitos(123)\n",
    "[1, 2, 3]\n",
    "```"
   ]
  },
  {
   "cell_type": "markdown",
   "id": "30bd310d",
   "metadata": {},
   "source": [
    "#### 9.\n",
    "Usando a função *lista_digitos* do exercício 8 e funcionais sobre listas, escreva a função `produto_digitos`, que recebe um inteiro positivo, $n$, e um predicado de um argumento, *pred*, e devolve o produto dos dígitos de n que satisfazem o predicado pred. A sua função deve conter apenas uma instrução, a instrução `return`. Por exemplo:\n",
    "\n",
    "```Python\n",
    "produto_digitos(12345, lambda x : x > 3)\n",
    "20\n",
    "```"
   ]
  },
  {
   "cell_type": "markdown",
   "id": "69bddf8f",
   "metadata": {},
   "source": [
    "#### 10.\n",
    "Usando a função *lista_digitos* do exercício 8 e funcionais sobre listas, escreva a função `apenas_digitos_impares`, que recebe um inteiro positivo, $n$, e devolve o inteiro constituído pelos dígitos ímpares de $n$. A sua função deve conter apenas uma instrução, a instrução `return`. Por exemplo:\n",
    "\n",
    "```Python\n",
    "apenas_digitos_impares(12345)\n",
    "135\n",
    "```"
   ]
  },
  {
   "cell_type": "markdown",
   "id": "a1cd0f65",
   "metadata": {},
   "source": [
    "# Programação functional como paradigma de computação\n",
    "Note-se que em Python já existe um implementação dos funcionais mais relevantes implementados nas questões anteriores (e até mais expressiva). São eles o `map`, o `reduce`, o `filter`, o `any` e o `all` (ou as versões equivalentes definidas à custa de listas por compreensão). Contudo, estes funcionais permitem apenas definir um fragmento das funções computáveis (as funções que se podem calcular recorrendo a um computador). Em particular, nenhum dos funcionais supramencionados permite realizar uma computação infinita. Para tal é necessário um funcional adicional, que é apresentado de seguida. \n",
    "\n",
    "Considere o combinador (funcional) `fixedPoint` que calcula o ponto fixo de uma função $f$ de um argumento. O combinador `fixedPoint`, também usualmente designado por combinador `Y`,  permite definir um mecanismo de recursão sem usar explicitamente o nome da função recursiva. Assim, este combinador recorre a funções lambda (anónimas) que se aplicam a si mesmas. Por isso, este combinador é particularmente útil quando se trabalha com linguagens de programação puramente funcionais (e.g., *Haskell*, *Scheme* and *OCaml*)."
   ]
  },
  {
   "cell_type": "code",
   "execution_count": 20,
   "id": "44c5cc35",
   "metadata": {
    "tags": []
   },
   "outputs": [],
   "source": [
    "def fixedPoint(f, x):\n",
    "    while x != f(x):\n",
    "        x = f(x)\n",
    "    return x"
   ]
  },
  {
   "cell_type": "markdown",
   "id": "55ab2f23-5c6f-461d-9a04-1d4f97cecf7e",
   "metadata": {},
   "source": [
    "Apenas como curiosidade, note-se que a definição do operador de ponto fixo poderia ser concebida de forma funcional recorrendo ao famoso combinador `Y`:\n",
    "```Python\n",
    "def Y(f):\n",
    "    return (lambda x: f(lambda v: x(x)(v)))(\n",
    "        lambda x: f(lambda v: x(x)(v))\n",
    "    )\n",
    "```"
   ]
  },
  {
   "cell_type": "markdown",
   "id": "45ecfb28-2fdd-4aa1-b93f-08a8c1f35928",
   "metadata": {},
   "source": [
    "Em seguida, apresentamos alguns exemplos de utilização do `fixedPoint`.\n",
    "\n",
    "* calcular o factorial de um número:\n",
    "```Python\n",
    "def factorial(n):\n",
    "    def f(x):\n",
    "        return x if x[1] > n else (x[0]*x[1], x[1]+1)\n",
    "    return fixedPoint(f, (1, 1))[0]\n",
    "\n",
    "factorial(20)\n",
    "2432902008176640000\n",
    "```\n",
    "\n",
    "* contar o número de elementos negativos de uma uma lista:\n",
    "\n",
    "```Python\n",
    "def conta_neg(lst):\n",
    "    def f(x): \n",
    "        return x if x[0]==[] else (x[0][1:], x[1]+(x[0][0]<0))\n",
    "    return fixedPoint(f, (lst, 0))[1]\n",
    "\n",
    "conta_neg([1, 2, -5, 0, -3])\n",
    "2\n",
    "```\n",
    "* calcular a lista que se obtem de retirar a primeira ocorrência de um certo elemento na lista:\n",
    "\n",
    "```Python\n",
    "def apaga1(lst, n):\n",
    "    def f(x):\n",
    "        return x if x[0]==[] else \\\n",
    "            (x[0][1:] if x[0][0]!=n else [] , \\\n",
    "               x[1]+[x[0][0]] if x[0][0]!=n else x[1]+x[0][1:])\n",
    "    return fixedPoint(f, (lst,[]))[1]\n",
    "\n",
    "apaga1([1,2,3,4,5,3,4,5,7,3,9],3)\n",
    "[1, 2, 4, 5, 3, 4, 5, 7, 3, 9]\n",
    "```\n",
    "\n",
    "Ainda mais interessante é o facto de qualquer função computável poder ser implementada em programação funcional à custa do combinadore de ponto fixo. Se estas matérias despertarem curiosidade, já fora do âmbito desta disciplica, sugerem-se as seguintes leituras:\n",
    "\n",
    "**[1]**  Barendregt, H. P. (1984). *The lambda calculus (Vol. 3)*. Amsterdam: North-Holland.\n",
    "\n",
    "**[2]**  Smullyan, R. M. (2000). *To Mock a Mockingbird: and other logic puzzles including an amazing adventure in combinatory logic*. Oxford University Press, USA.\n",
    "\n",
    "**[3]** Sørensen, M. H., & Urzyczyn, P. (2006). *Lectures on the Curry-Howard isomorphism*. Elsevier."
   ]
  },
  {
   "cell_type": "markdown",
   "id": "4253bde7",
   "metadata": {},
   "source": [
    "#### 11.\n",
    "Usando o combinador `fixedpoint` e definindo uma função pura adequada (sem ciclos, sem manipulação de variáveis e sem recursão), escreva uma função que calcula:\n",
    "* (a) o número de dígitos de um número natural $n$, `num_dig`\n",
    "* (b) a lista de inteiros que resulta de filtrar da lista de inteiros argumento, $w$, os números pares, `filtra_pares`\n",
    "* (c) o primeiro dígitos de um número natural $n$, `prim_alg`"
   ]
  },
  {
   "cell_type": "markdown",
   "id": "c64a72df",
   "metadata": {},
   "source": [
    "#### 12. \n",
    "Recorrendo apenas a funções puras e aos funcionais `map`, `reduce`, `filter`, `any`, `all` e `fixedPoint`: \n",
    "\n",
    "* (a) defina o funcional `nest` que recebe como argumentos uma função $f$, um elemento $x$ e um inteiro não negativo $n$ e retorna \n",
    "$$f^n(x) = \\underbrace{f(f(\\dots f}_{n\\text{ vezes}}(x)))$$\n",
    "\n",
    "* (b) usando apenas o funcional `nest` e funções puras, defina a função pedida em **12\\. (c)**"
   ]
  },
  {
   "cell_type": "markdown",
   "id": "876f3023",
   "metadata": {},
   "source": [
    "#### 13.\n",
    "Recorrendo apenas a funções puras e aos funcionais `map`, `reduce`, `filter`, `any`, `all`, `nest` e `fixedPoint`, resolva os exercícios dos LABs 6 - 10. "
   ]
  },
  {
   "cell_type": "code",
   "execution_count": null,
   "id": "8e8d8d68-b971-401f-90a8-0f842a502200",
   "metadata": {},
   "outputs": [],
   "source": []
  }
 ],
 "metadata": {
  "kernelspec": {
   "display_name": "Python 3 (ipykernel)",
   "language": "python",
   "name": "python3"
  },
  "language_info": {
   "codemirror_mode": {
    "name": "ipython",
    "version": 3
   },
   "file_extension": ".py",
   "mimetype": "text/x-python",
   "name": "python",
   "nbconvert_exporter": "python",
   "pygments_lexer": "ipython3",
   "version": "3.8.18"
  }
 },
 "nbformat": 4,
 "nbformat_minor": 5
}
