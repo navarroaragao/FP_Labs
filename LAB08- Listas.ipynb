{
 "cells": [
  {
   "cell_type": "markdown",
   "id": "9c30fe7e",
   "metadata": {},
   "source": [
    "### Fundamentos da Programação - Aula Laboratorial 8\n",
    "# Listas\n",
    "\n",
    "#### 1.\n",
    "Escreva a função de dois argumentos, `lista_codigos`, que recebe uma cadeia de caracteres e que devolve a lista contendo os códigos “Unicode” de cada um dos caracteres da lista. Por exemplo:\n",
    "```Python\n",
    "lista_codigos('bom dia')\n",
    "[98, 111, 109, 32, 100, 105, 97]\n",
    "```"
   ]
  },
  {
   "cell_type": "markdown",
   "id": "f9e7b5f1",
   "metadata": {},
   "source": [
    "#### 2. \n",
    "Escreva a função de dois argumentos, `remove_multiplos`, que recebe uma lista de inteiros e um inteiro e que devolve a lista que resulta de remover todos os múltiplos do segundo argumento da lista original. Por exemplo:\n",
    "```Python\n",
    "remove_multiplos([2, 3, 5, 9, 12, 33, 34, 45], 3)\n",
    "[2, 5, 34]\n",
    "```"
   ]
  },
  {
   "cell_type": "markdown",
   "id": "26e65e43",
   "metadata": {},
   "source": [
    "Escreva uma função que realiza o solicitado em **2.**, mas que remove os elementos da própria lista, dada como argumento."
   ]
  },
  {
   "cell_type": "markdown",
   "id": "91aac723",
   "metadata": {},
   "source": [
    "#### 3. \n",
    "Escreva a função, `soma_cumulativa`, que recebe uma lista de números e que devolve uma lista que contém a soma cumulativa da lista recebida, ou seja, o elemento na posição $i$ da lista devolvida contém a soma de todos os elementos da lista original nas posições de $0$ a $i$. Não é necessário validar os dados de entrada. Por exemplo,\n",
    "```Python\n",
    "soma_cumulativa([1, 2, 3, 4, 5])\n",
    "[1, 3, 6, 10, 15]\n",
    "```"
   ]
  },
  {
   "cell_type": "markdown",
   "id": "5da57310",
   "metadata": {},
   "source": [
    "#### 4.\n",
    "Uma *matriz* é uma tabela bidimensional em que os seus elementos são referenciados pela linha e pela coluna em que se encontram. Uma matriz pode ser representada como uma lista cujos elementos são listas de igual comprimento, cada uma destas sublistas representa uma linha. Com base nesta representação, escreva a função `elemento_matriz` que recebe três argumentos, uma matriz, uma linha e uma coluna e que devolve o elemento da matriz que se encontra na linha e coluna indicadas. Por exemplo,\n",
    "\n",
    "```Python\n",
    "m = [[1, 2, 3], [4, 5, 6]]\n",
    "\n",
    "elemento_matriz(m, 0, 0)\n",
    "1\n",
    "\n",
    "elemento_matriz(m, 0, 3)\n",
    "ValueError: elemento_matriz: indice invalido, coluna 3\n",
    "```"
   ]
  },
  {
   "cell_type": "markdown",
   "id": "cf21433d",
   "metadata": {},
   "source": [
    "#### 5. \n",
    "Considere uma matriz como definida no exercício anterior. Escreva uma função `escreve_matriz` em Python que recebe uma matriz com dimensões $n\\times m$ e que a escreve (recorrendo ao método `print`) sob a forma:\n",
    "$$\n",
    "\\begin{array}{cccc}\n",
    "a_{11} & a_{12} & \\ldots & a_{1m}\\\\\n",
    "a_{21} & a_{22} & \\ldots & a_{2m}\\\\\n",
    "\\vdots &  & \\ddots & \\vdots\\\\\n",
    "a_{n1} & a_{n2} & \\ldots & a_{nm}\n",
    "\\end{array}.\n",
    "$$"
   ]
  },
  {
   "cell_type": "markdown",
   "id": "2530054e",
   "metadata": {},
   "source": [
    "#### 6.\n",
    "Considere o conceito de matriz. Escreva a função ``soma_mat`` que recebe como argumentos duas matrizes com a mesma dimensão e devolve uma matriz correspondente à soma das matrizes que são seus argumentos. Sendo $a$ e $b$ as matrizes a somar, os elementos da matriz soma são dados por\n",
    "$$s_{ij} = a_{ij} + b_{ij}.$$\n",
    "Por exemplo:\n",
    "\n",
    "```Python\n",
    "m1 = [[1, 2, 3], [4, 5, 6], [7, 8, 9]]\n",
    "\n",
    "m2 = [[1, 2, 3], [4, 5, 6], [7, 8, 9]]\n",
    "\n",
    "escreve_matriz(soma_mat(m1, m2))\n",
    "2    4    6\n",
    "8    10   12\n",
    "14   16   18\n",
    "```"
   ]
  },
  {
   "cell_type": "markdown",
   "id": "39981b79",
   "metadata": {},
   "source": [
    "#### 7. \n",
    "Considere o conceito de matriz. Escreva a função ``multiplica_mat`` que recebe como argumentos duas matrizes, a primeira de dimensão $m\\times n$ e a segunda de dimensão $n\\times r$, e devolve uma matriz correspondente ao produto das matrizes que são seus argumentos. Sendo $A$ e $B$ as matrizes a multiplicar, os elementos da matriz produto são dados por\n",
    "$$p_{ij}=\\sum_{k = 1}^n A_{ik}B_{kj}.$$\n",
    "**Sugestão**: pode definir uma função auxiliar que calcule o produto interno entre a $i$-ésima linha de uma matriz e a $j$-ésima coluna de outra matriz. "
   ]
  },
  {
   "cell_type": "markdown",
   "id": "db7784ef",
   "metadata": {},
   "source": [
    "#### 7.\n",
    "A sequência de Racamán,\n",
    "$$0, 1, 3, 6, 2, 7, 13, 20, 12, 21, 11, 22, 10, 23, 9, 24, \\ldots$$\n",
    "é uma sequência de números inteiros não negativos, definida do seguinte modo: \n",
    "* (1) o primeiro termo da sequência é zero; \n",
    "* (2) para calcular o $n$-ésimo termo, verifica-se se o termo anterior é maior do que $n$ e se o resultado de subtrair $n$ ao termo anterior ainda não apareceu na sequência, neste caso o $n$-ésimo termo é dado pela subtração entre o $(n - 1)$-ésimo termo e $n$; em caso contrário o $n$-ésimo termo é dado pela soma do $(n - 1)$-ésimo termo com $n$. \n",
    "Ou seja, \n",
    "$$r(n)=\\begin{cases}\n",
    "0 & \\text{se }n=0\\\\\n",
    "r(n-1) - n & \\text{se }r(n-1)>n\\land (r(n-1)-n)\\notin\\{r(i)\\,:\\,i < n\\}\\\\\n",
    "r(n-1) + n & \\text{caso contrário}\n",
    "\\end{cases}$$\n",
    "Escreva uma função `seq_racaman` que recebe um inteiro positivo, $n$, e devolve uma lista contendo os $n$ primeiros elementos da sequência de Racamán. Por exemplo:\n",
    "\n",
    "```Python\n",
    "seq_racaman(15)\n",
    "[0, 1, 3, 6, 2, 7, 13, 20, 12, 21, 11, 22, 10, 23, 9]\n",
    "```"
   ]
  },
  {
   "cell_type": "markdown",
   "id": "a9572c1b",
   "metadata": {},
   "source": [
    "#### 8. \n",
    "Escreva a função `num_occ_lista`, que recebe uma lista e um número, e devolve o número de vezes que o número ocorre na lista e nas suas sublistas, se existirem. Não é necessário validar os argumentos. Por exemplo,\n",
    "\n",
    "```Python\n",
    "num_occ_lista([1, 2, 3, 4, 3], 3)\n",
    "2\n",
    "\n",
    "num_occ_lista([1, [[[1]], 2], [[[2]]], 2], 2)\n",
    "3\n",
    "```"
   ]
  },
  {
   "cell_type": "markdown",
   "id": "ee234d2c",
   "metadata": {},
   "source": [
    "#### 10. \n",
    "Uma chave do euromilhões é constituída por cinco inteiros ordenados, entre $1$ e $50$ e sem repetições e por dois números diferentes, também ordenados, entre $1$ e $12$. Escreva uma função sem argumentos que devolve aleatoriamente uma lista contendo duas listas, cada uma delas contendo os constituintes de uma chave do euromilhões. Para a geração de números aleatórios utilize a função `random`, existente na biblioteca *random*, que devolve aleatoriamente um real no intervalo $[0, 1[$."
   ]
  },
  {
   "cell_type": "markdown",
   "id": "2b902f56-564f-41a1-b0ea-3bfb00361e15",
   "metadata": {},
   "source": [
    "#### 11.\n",
    "Defina a função `transposta` que recebe como argumento uma matriz $A$ e devolve a matriz $A^\\intercal$, cujas linhas são as colunas de $A$. Não pode utilizar a instrução `zip`. Por exemplo,\n",
    "\n",
    "```Python\n",
    "transposta([[1, 2, 3], [4, 5, 6]])\n",
    "[[1, 4], [2, 5], [3, 6]]\n",
    "```"
   ]
  },
  {
   "cell_type": "markdown",
   "id": "950ff6fc-f7ac-4df3-9c5e-9c99cf0e616d",
   "metadata": {},
   "source": [
    "#### 12.\n",
    "O *reconhecimento de padrões* consiste em verificar se uma determinada sequência (padrão) $p$ ocorre numa outra sequência $s$ (se é seu prefixo, sufixo ou infixo). Sejam $p$ e $s$ listas de inteiros. Os seguintes exemplos ilustram a definição acima:\n",
    "\n",
    "- O padrão $p=[1,2,3]$ ocorre na sequência $s=[2,\\textbf{1},\\mathbf{2},\\mathbf{3},4,5]$;\n",
    "- O padrão $p=[4,3,4]$ não ocorre na sequência $s=[2,1,4,2,3,4,5]$;\n",
    "- O padrão $p=[5,2,7]$ ocorre na sequência $s=[\\textbf{5},\\mathbf{2},\\mathbf{7}]$;\n",
    "- O padrão $p=[9,4]$ ocorre na sequência $s=[3,2,4,2,\\mathbf{9},\\mathbf{4}]$;\n",
    "- O padrão $p=[7,4,3]$ ocorre na sequência $s=[7,4,\\mathbf{7},\\mathbf{4},\\mathbf{3},7,2,7]$.\n",
    "\n",
    "Defina uma função `reconhece` que recebe como argumento duas listas $p$ e $s$ e devolve `True` se o padrão $p$ ocorre na sequência $s$ e `False` caso contrário."
   ]
  },
  {
   "cell_type": "markdown",
   "id": "cfb1f51a-d4a6-4312-ba8d-6093c9bc2e69",
   "metadata": {},
   "source": [
    "Por exemplo, para a função $f(x)=-(x - 2)^2 + 5$ e para diferentes números de subintervalos, obtemos os seguintes gráficos que ilustram a aplicação da função `aproxima_area`.\n",
    "\n",
    "<div style=\"text-align: center;\">\n",
    "    <img src=\"imgs/somas_medias_Darboux1.png\" alt=\"texte\" width=\"340\"/> <img src=\"imgs/somas_medias_Darboux2.png\" alt=\"texte\" width=\"340\"/>\n",
    "</div>\n",
    "<div style=\"text-align: center;\">\n",
    "  <img src=\"imgs/somas_medias_Darboux3.png\" alt=\"texte\" width=\"340\"/>\n",
    "</div>\n",
    "\n",
    "Por exemplo,\n",
    "\n",
    "```python \n",
    "def f(x):\n",
    "    return -(x - 2)**2 + 5\n",
    "\n",
    "aproxima_area(0.5, 3.5, 6)\n",
    "12.625\n",
    "\n",
    "aproxima_area(0.5, 3.5, 12)\n",
    "12.71875\n",
    "\n",
    "aproxima_area(0.5, 3.5, 100)\n",
    "12.749550000000003\n",
    "```"
   ]
  },
  {
   "cell_type": "markdown",
   "id": "37f82c53-ded0-42f0-a54d-cd464353e0c0",
   "metadata": {
    "tags": []
   },
   "source": [
    "Por exemplo, para a função $f(x)=-(x - 2)^2 + 5$ e para diferentes números de subintervalos, obtemos os seguintes gráficos que ilustram a aplicação da função `aproxima_area`.\n",
    "\n",
    "<div style=\"text-align: center;\">\n",
    "    <img src=\"imgs/somas_medias_Darboux1.png\" alt=\"texte\" width=\"340\"/> <img src=\"imgs/somas_medias_Darboux2.png\" alt=\"texte\" width=\"340\"/>\n",
    "</div>\n",
    "<div style=\"text-align: center;\">\n",
    "  <img src=\"imgs/somas_medias_Darboux3.png\" alt=\"texte\" width=\"340\"/>\n",
    "</div>\n",
    "\n",
    "Por exemplo,\n",
    "\n",
    "```python \n",
    "def f(x):\n",
    "    return -(x - 2)**2 + 5\n",
    "\n",
    "aproxima_area(0.5, 3.5, 6)\n",
    "12.625\n",
    "\n",
    "aproxima_area(0.5, 3.5, 12)\n",
    "12.71875\n",
    "\n",
    "aproxima_area(0.5, 3.5, 100)\n",
    "12.749550000000003\n",
    "```"
   ]
  },
  {
   "cell_type": "code",
   "execution_count": null,
   "id": "e6caea3c-a882-4b58-98e7-2728ac0888be",
   "metadata": {},
   "outputs": [],
   "source": []
  }
 ],
 "metadata": {
  "kernelspec": {
   "display_name": "Python 3 (ipykernel)",
   "language": "python",
   "name": "python3"
  },
  "language_info": {
   "codemirror_mode": {
    "name": "ipython",
    "version": 3
   },
   "file_extension": ".py",
   "mimetype": "text/x-python",
   "name": "python",
   "nbconvert_exporter": "python",
   "pygments_lexer": "ipython3",
   "version": "3.8.18"
  }
 },
 "nbformat": 4,
 "nbformat_minor": 5
}
