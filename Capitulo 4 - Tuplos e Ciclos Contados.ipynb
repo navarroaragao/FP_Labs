{
 "cells": [
  {
   "cell_type": "markdown",
   "metadata": {},
   "source": [
    "## Capítulo 4\n",
    "# Tuplos e Ciclos Contados\n",
    "\n",
    "#### 1. \n",
    "Considere as seguintes instruções em Python:"
   ]
  },
  {
   "cell_type": "code",
   "execution_count": 1,
   "metadata": {},
   "outputs": [
    {
     "name": "stdout",
     "output_type": "stream",
     "text": [
      "Soma = 10\n"
     ]
    }
   ],
   "source": [
    "soma = 0\n",
    "i = 20\n",
    "while i > 0:\n",
    "    soma = soma + 1\n",
    "    i = i - 2\n",
    "print('Soma =', soma)"
   ]
  },
  {
   "cell_type": "markdown",
   "metadata": {},
   "source": [
    "Escreva instruções equivalentes utilizando um ciclo **for**."
   ]
  },
  {
   "cell_type": "markdown",
   "metadata": {},
   "source": [
    "#### 2.\n",
    "Escreva a função *explode* que recebe um número inteiro positivo, verificando a correção do seu argumento, e devolve o tuplo contendo os dígitos desse número, pela ordem em que aparecem no número. Por exemplo\n",
    "\n",
    "`explode(34500)`\n",
    "\n",
    "`(3, 4, 5, 0, 0)`\n",
    "\n",
    "`explode(3.5)`\n",
    "\n",
    "`ValueError: explode: argumento não inteiro`"
   ]
  },
  {
   "cell_type": "markdown",
   "metadata": {},
   "source": [
    "Será possível definir a função utilizando um ciclo **for**?"
   ]
  },
  {
   "cell_type": "markdown",
   "metadata": {},
   "source": [
    "#### 3. \n",
    "Escreva a função *implode* que recebe um tuplo contendo algarismos, verificando a correção do seu argumento, e devolve o número inteiro contendo os algarismos do tuplo, pela ordem em que aparecem. Por exemplo\n",
    "\n",
    "`implode((3, 4, 0, 0, 4))`\n",
    "\n",
    "`34004`\n",
    "\n",
    "`implode((2, 'a', 5))`\n",
    "\n",
    "`ValueError: implode: elemento não inteiro`\n",
    "\n",
    "Escreva duas versões da sua função, uma utilizando um ciclo **while** e outra utilizando um ciclo **for**."
   ]
  },
  {
   "cell_type": "markdown",
   "metadata": {},
   "source": [
    "#### 4.\n",
    "Escreva a função *filtra_pares* que recebe um tuplo contendo algarismos, verificando a correção do seu argumento, e devolve o tuplo contendo apenas os algarismos pares. Por exemplo\n",
    "\n",
    "`filtra_pares((2, 5, 6, 7, 9, 1, 8, 8))`\n",
    "\n",
    "`(2, 6, 8, 8)`"
   ]
  },
  {
   "cell_type": "markdown",
   "metadata": {},
   "source": [
    "#### 5.\n",
    "Recorrendo às funções *explode*, *implode* e *filtra_pares*, defina a função *algarismos_pares* que recebe um inteiro e devolve o inteiro que apenas contém os algarismos pares do número original. Por exemplo,\n",
    "\n",
    "`algarismos_pares(6643399766641)`\n",
    "\n",
    "`6646664`"
   ]
  },
  {
   "cell_type": "markdown",
   "metadata": {},
   "source": [
    "#### 6.\n",
    "Escreva a função *num_para_seq_cod* que recebe um número inteiro positivo maior do que zero e que devolve um tuplo contendo os algarismos codificados desse número do seguinte modo: \n",
    "* (a) cada algarismo par é substituído pelo número par seguinte, entendendo-se que o número par seguinte a 8 é o 0; \n",
    "* (b) cada algarismo ímpar é substituído pelo número ímpar anterior, entendendo-se que o número ímpar anterior a 1 é o 9. \n",
    "Por exemplo,\n",
    "\n",
    "`num_para_seq_cod(1234567890)`\n",
    "\n",
    "`(9, 4, 1, 6, 3, 8, 5, 0, 7, 2)`"
   ]
  },
  {
   "cell_type": "markdown",
   "metadata": {},
   "source": [
    "#### 7.\n",
    "Duas palavras de igual comprimento dizem-se “amigas” se o número de posições em que os respetivos caracteres diferem for inferior a 10%. Escreva a função *amigas* que recebe como argumentos duas cadeias de caracteres e devolve verdadeiro se os seus argumentos corresponderem a palavras amigas e falso em caso contrário. Por exemplo:\n",
    "\n",
    "`amigas('amigas', 'amigas')`\n",
    "\n",
    "`True`\n",
    "\n",
    "`amigas('amigas', 'asigos')`\n",
    "\n",
    "`False`"
   ]
  },
  {
   "cell_type": "markdown",
   "metadata": {},
   "source": [
    "#### 8.\n",
    "Defina a função *junta_ordenados* que recebe dois tuplos contendo inteiros, ordenados por ordem crescente. e devolve um tuplo também ordenado com os elementos dos dois tuplos. Por exemplo,\n",
    "\n",
    "`junta_ordenados((2, 34, 200, 210), (1, 23))`\n",
    "\n",
    "`(1, 2, 23, 34, 200, 210)`"
   ]
  },
  {
   "cell_type": "markdown",
   "metadata": {},
   "source": [
    "#### 9. \n",
    "Considere a gramática em notação BNF:\n",
    "$$\n",
    "\\begin{array}{rcl}\n",
    "\\langle idt\\rangle & ::= & \\langle letras\\rangle \\langle numeros\\rangle\\\\\n",
    "\\langle letras\\rangle & ::= & \\langle letra\\rangle |\n",
    "                \\langle letra\\rangle \\langle letras\\rangle\\\\\n",
    "\\langle numeros\\rangle & ::= & \\langle num\\rangle |\n",
    "                \\langle num\\rangle \\langle numeros\\rangle\\\\\n",
    "\\langle letra\\rangle & ::= & A | B | C | D\\\\\n",
    "\\langle num\\rangle & ::= & 1 | 2 | 3 | 4\n",
    "\\end{array}$$\n",
    "Escreva a função *reconhece*, que recebe como argumento uma cadeia de carateres e devolve verdadeiro se o seu argumento corresponde a uma frase da linguagem definida pela gramática e falso em caso contrário. Por exemplo,\n",
    "\n",
    "`reconhece('A1')`\n",
    "\n",
    "`True`\n",
    "\n",
    "`reconhece('ABBBBCDDDD23311')`\n",
    "\n",
    "`True`\n",
    "\n",
    "`reconhece('ABC12C')`\n",
    "\n",
    "`False`"
   ]
  },
  {
   "cell_type": "markdown",
   "metadata": {},
   "source": [
    "#### 10.\n",
    "Um método básico para codificar um texto corresponde a isolar os caracteres nas posições pares para um lado e os caracteres nas posições ímpares para outro, juntando depois as duas partes anteriormente obtidas. Por exemplo, o texto **abcde** é codificado por **acebd**.\n",
    "* (a) Defina uma função que codifica uma cadeia de caracteres de acordo com o algoritmo apresentado. Não é necessário validar os dados de entrada. Por exemplo,\n",
    "\n",
    "`codifica('abcde')`\n",
    "\n",
    "`'acebd'`\n",
    "* (b) Defina uma função que descodifica uma cadeia de caracteres de acordo com o algoritmo apresentado. Não é necessário validar os dados de entrada. Por exemplo,\n",
    "\n",
    "`descodifica('acebd')`\n",
    "\n",
    "`'abcde'`"
   ]
  }
 ],
 "metadata": {
  "kernelspec": {
   "display_name": "Python 3",
   "language": "python",
   "name": "python3"
  },
  "language_info": {
   "codemirror_mode": {
    "name": "ipython",
    "version": 3
   },
   "file_extension": ".py",
   "mimetype": "text/x-python",
   "name": "python",
   "nbconvert_exporter": "python",
   "pygments_lexer": "ipython3",
   "version": "3.8.3"
  }
 },
 "nbformat": 4,
 "nbformat_minor": 5
}
