{
 "cells": [
  {
   "cell_type": "markdown",
   "metadata": {},
   "source": [
    "### Fundamentos da Programação - Aula Laboratorial 1\n",
    "# Ambiente de desenvolvimento\n",
    "\n",
    "### Objetivos:\n",
    "- Instalar Python, Visual Studio Code e (opcionalmente) Jupyter notebooks\n",
    "- Fazer login no GitLab da RNL\n",
    "- Configurar SSH-key no GITLAB\n",
    "- Clonar repositório dos laboratórios\n",
    "- Interagir com o interpretador de Python:\n",
    "    - Modo interativo:\n",
    "        - Abrindo Python desde uma linha de comandos\n",
    "        - Numa celula de código num Jupyter notebook\n",
    "    - Modo script "
   ]
  },
  {
   "cell_type": "code",
   "execution_count": null,
   "metadata": {},
   "outputs": [],
   "source": []
  }
 ],
 "metadata": {
  "kernelspec": {
   "display_name": "Python 3",
   "language": "python",
   "name": "python3"
  },
  "language_info": {
   "codemirror_mode": {
    "name": "ipython",
    "version": 3
   },
   "file_extension": ".py",
   "mimetype": "text/x-python",
   "name": "python",
   "nbconvert_exporter": "python",
   "pygments_lexer": "ipython3",
   "version": "3.9.6"
  },
  "orig_nbformat": 4
 },
 "nbformat": 4,
 "nbformat_minor": 2
}
