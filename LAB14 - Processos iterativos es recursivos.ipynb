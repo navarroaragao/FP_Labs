{
 "cells": [
  {
   "cell_type": "markdown",
   "id": "e14a76a4",
   "metadata": {},
   "source": [
    "### Fundamentos da Programação - Aula Laboratorial 14\n",
    "\n",
    "# Processos iterativos e recursivos\n",
    "\n",
    "#### 1. \n",
    "Considere a seguinte função:"
   ]
  },
  {
   "cell_type": "code",
   "execution_count": 1,
   "id": "b009c176",
   "metadata": {},
   "outputs": [],
   "source": [
    "def misterio(x, n):\n",
    "    if n == 0:\n",
    "        return 0\n",
    "    else:\n",
    "        return x*n + misterio(x, n-1)"
   ]
  },
  {
   "cell_type": "markdown",
   "id": "1fffc215",
   "metadata": {},
   "source": [
    "(a) Explique o que é calculado pela função misterio.\n",
    "\n",
    "(b) Mostre a evolução do processo gerado pela avaliação de misterio(2, 3).\n",
    "\n",
    "(c) De que tipo é o processo gerado pela função apresentada? Justifique.\n",
    "\n",
    "(d) Se a função apresentada for *recursiva de cauda*, defina uma nova função *recursiva* por transformação da primeira de modo a deixar operações adiadas; se for uma função *recursiva com operações adiadas*, defina uma função *recursiva de cauda*."
   ]
  },
  {
   "cell_type": "markdown",
   "id": "a87f9e71",
   "metadata": {},
   "source": [
    "#### 2. \n",
    "Suponha que as operações de multiplicação $(*)$ e potência $(**)$ não existiam em Python e que pretende calcular o quadrado de um número natural. O quadrado de um número natural pode ser calculado como a soma de todos os números ímpares inferiores ao dobro do número, ou seja,\n",
    "$$n^2 = \\sum_{i=1}^n(2i-1).$$\n",
    "Note que o dobro de um número também não pode ser calculado recorrendo à operação de multiplicação. Escreva uma função que calcula o quadrado de um número natural utilizando o método descrito.\n",
    "\n",
    "(a) Usando recursão com operações adiadas.\n",
    "\n",
    "(b) Usando recursão de cauda.\n",
    "\n",
    "(c) Usando um processo iterativo."
   ]
  },
  {
   "cell_type": "markdown",
   "id": "494fa0d3",
   "metadata": {},
   "source": [
    "#### 3. \n",
    "Escreva a função `numero_digitos` que recebe um número inteiro não negativo $n$, e devolve o número de dígitos de $n$. As suas funções não podem user cadeias de caracteres. As suas funções devem validar a correção do argumento. Por exemplo,\n",
    "\n",
    "```Python\n",
    "numero_digitos(9)\n",
    "1\n",
    "\n",
    "numero_digitos(1012)\n",
    "4\n",
    "```\n",
    "(a) Usando recursão com operações adiadas. \n",
    "\n",
    "(b) Usando recursão de cauda.\n",
    "\n",
    "(c) Usando um processo iterativo."
   ]
  },
  {
   "cell_type": "markdown",
   "id": "73e26fae",
   "metadata": {},
   "source": [
    "#### 4. \n",
    "Um número é uma capicua se se lê igualmente da esquerda para a direita e vice-versa. Escreva a função *recursiva de cauda*, `eh_capicua`, que recebe um número inteiro positivo $n$, e devolve `True` se o número for uma capicua e `False` caso contrário. A sua função deve utilizar a função `numero_digitos` do exercício anterior. Por exemplo,\n",
    "\n",
    "```Python\n",
    "eh_capicua(12321)\n",
    "True\n",
    "\n",
    "eh_capicua(1221)\n",
    "True\n",
    "\n",
    "eh_capicua(123210)\n",
    "False\n",
    "```"
   ]
  },
  {
   "cell_type": "markdown",
   "id": "fa65f5ac",
   "metadata": {},
   "source": [
    "#### 5. \n",
    "O espelho de um número inteiro positivo é o resultado de inverter a ordem de todos os seus algarismos. Escreva a função *recursiva de cauda*, `espelho`, que recebe um número inteiro positivo *n*, e devolve o seu espelho. Por exemplo,\n",
    "\n",
    "```Python\n",
    "espelho(391)\n",
    "193\n",
    "\n",
    "espelho(45679)\n",
    "97654\n",
    "\n",
    "espelho(1230000)\n",
    "321\n",
    "```"
   ]
  },
  {
   "cell_type": "markdown",
   "id": "e3a0e997",
   "metadata": {},
   "source": [
    "#### 6. \n",
    "\n",
    "Considere a função $g$, definida para inteiros não negativos do seguinte modo:\n",
    "$$g(n)=\n",
    "\\begin{cases}\n",
    "0, & \\text{se }n=0\\\\\n",
    "n-g(g(n-1)), & \\text{se }n>0\n",
    "\\end{cases}.$$\n",
    "(a) Escreva uma função recursiva em Python para calcular o valor de $g(n)$.\n",
    "\n",
    "(b) Siga o processo gerado por `g(3)`, indicando todos os cálculos efectuados.\n",
    "\n",
    "(c) Que tipo de processo é gerado por esta função?"
   ]
  },
  {
   "cell_type": "markdown",
   "id": "c849fb5d",
   "metadata": {},
   "source": [
    "#### 7.\n",
    "Escreva a função *recursiva de cauda*, `calc_soma`, para calcular o valor da soma\n",
    "$$\n",
    "1+x+\\frac{x^2}{2!}+\\ldots+\\frac{x^n}{n!} = \\sum_{i=0}^n \\frac{x^i}{i!},\n",
    "$$\n",
    "para um dado valor de $x$ e de $n$. A sua função deve ter em atenção que o $i$-ésimo termo da soma pode ser obtido do termo na posição $i - 1$, multiplicando-o por $x/i$."
   ]
  },
  {
   "cell_type": "markdown",
   "id": "7b1aa201",
   "metadata": {},
   "source": [
    "#### 8. \n",
    "Escreva a função recursiva de cauda, `maior_inteiro`, que recebe um inteiro positivo, $\\ell$, e que devolve o maior inteiro $n$ tal que $1 + 2 + \\ldots + n\\leq \\ell$. Por exemplo, \n",
    "\n",
    "```Python\n",
    "maior_inteiro(6)\n",
    "3\n",
    "\n",
    "maior_inteiro(20)\n",
    "5\n",
    "```"
   ]
  },
  {
   "cell_type": "markdown",
   "id": "3d37d27d",
   "metadata": {},
   "source": [
    "#### 9.\n",
    "Um número $d$ é divisor de $n$ ($d\\leq n$) se o resto da divisão de $n$ por $d$ for $0$. Usando *recursão de cauda*, escreva a função `soma_divisores` que recebe um número inteiro positivo $n$, e que devolve a soma de todos os divisores de $n$."
   ]
  },
  {
   "cell_type": "markdown",
   "id": "a427088a",
   "metadata": {},
   "source": [
    "#### 10. \n",
    "Um número diz-se perfeito se for igual à soma dos seus divisores (não contando o próprio número). Por exemplo, $6$ é perfeito porque $1+2+3 = 6$.\n",
    "\n",
    "(a) Usando *recursão de cauda*, escreva a função `perfeito` que recebe como argumento um número inteiro $n$ e tem o valor `True` se o seu argumento for um número perfeito e `False` em caso contrário. Não é necessário validar os dados de entrada."
   ]
  },
  {
   "cell_type": "markdown",
   "id": "4ac8b2bb",
   "metadata": {},
   "source": [
    "(b) Usando recursão com operações adiadas e a função perfeito da alínea anterior, escreva a função `perfeitos_entre` que recebe dois inteiros positivos $n$ e $m$ e devolve a lista dos números perfeitos entre os seus argumentos, incluindo os próprios $n$ e $m$. Por exemplo:\n",
    "\n",
    "```Python\n",
    "perfeitos_entre(6, 30)\n",
    "[6, 28]\n",
    "```"
   ]
  },
  {
   "cell_type": "markdown",
   "id": "5debd666",
   "metadata": {},
   "source": [
    "#### 11. \n",
    "A *sucessão de Fibonacci* pode ser dada pela seguinte fórmula recursiva:\n",
    "$$\n",
    "F(n) = \\begin{cases}\n",
    "1, & \\text{ se }n\\in\\{0,1\\}\\\\\n",
    "F(n-1)+F(n-2), & \\text{ caso contrário}\n",
    "\\end{cases}.\n",
    "$$\n",
    "\n",
    "(a) Usando recursão, define a função *fib* que recebe um número interiro positivo $n$ e devolve o $n$-ésimo número da sucessão de Fibonacci. \n",
    "\n",
    "(b) Qual o processo de recursão gerado?\n",
    "\n",
    "(c) Será que é possível melhorar a complexidade temporal desta função para linear, usando recursão de cauda? Se sim, defina essa função.\n",
    "\n",
    "(d) Será que é possível melhorar ainda mais a complexidade temporal da versão que desenvolveu em (c)? Como?"
   ]
  },
  {
   "cell_type": "markdown",
   "id": "63848ea0-63a3-4319-967a-b3cb5d55844d",
   "metadata": {},
   "source": [
    "#### 12.\n",
    "Defina uma função recursiva de cauda `conta_ord` que recebe como argumento uma lista de listas de números inteiros $w$ e devolve o número de sublistas de $w$ que se encontram ordenadas por ordem crescente em sentido lato, ou seja, em que cada elemento é menor ou igual que o seguinte.\n",
    "Por exemplo, \n",
    "```Python\n",
    "conta_ord([[2, 2, 3, 0], [1, 2, 5, 4], [2, 4, 4]])\n",
    "1 \n",
    "```\n",
    "pois só a terceira lista está ordenada. \n",
    "\n",
    "**Sugestão**: Pode, se achar conveniente, definir funções auxiliares desde que sejam funções recursivas de cauda."
   ]
  },
  {
   "cell_type": "markdown",
   "id": "199f1d18-16b0-465a-aa35-885566cc77b4",
   "metadata": {},
   "source": [
    "#### 13. \n",
    "Defina a função recursiva de cauda `listas_iguais` que recebe como argumentos duas lista e devolve `True` se as listas forem iguais e `False` em caso contrário. Não pode usar o predicado de comparação `==` entre listas (mas pode usar entre elementos). Por exemplo,\n",
    "```Python\n",
    "listas_iguais([1, 2, 3], [3, 2, 1])\n",
    "False\n",
    "\n",
    "listas_iguais([1, 2, 3], [1, 2])\n",
    "False\n",
    "\n",
    "listas_iguais([1, 2, 3], [1, 2, 3])\n",
    "True\n",
    "```"
   ]
  },
  {
   "cell_type": "markdown",
   "id": "1ce55837-b74d-4730-a752-cf9476b13eb1",
   "metadata": {},
   "source": [
    "#### 14. \n",
    "Repita os exercícios a partir do LAB05, resolvendo-os com recurso a recursão de cauda."
   ]
  }
 ],
 "metadata": {
  "kernelspec": {
   "display_name": "Python 3 (ipykernel)",
   "language": "python",
   "name": "python3"
  },
  "language_info": {
   "codemirror_mode": {
    "name": "ipython",
    "version": 3
   },
   "file_extension": ".py",
   "mimetype": "text/x-python",
   "name": "python",
   "nbconvert_exporter": "python",
   "pygments_lexer": "ipython3",
   "version": "3.8.18"
  }
 },
 "nbformat": 4,
 "nbformat_minor": 5
}
