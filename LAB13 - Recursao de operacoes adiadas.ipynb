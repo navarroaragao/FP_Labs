{
 "cells": [
  {
   "cell_type": "markdown",
   "id": "dd986807",
   "metadata": {},
   "source": [
    "### Fundamentos da Programação - Aula Laboratorial 13\n",
    "# Recursão de operações adiadas\n",
    "\n",
    "***Nota***: Nos exercícios desta aula não pode utilizar a atribuição nem os ciclos **while** e **for**.\n",
    "\n",
    "#### 1. \n",
    "Escreva a função recursiva **apenas_digitos_impares** que recebe um número inteiro não negativo n, e devolve um inteiro composto apenas pelos dígitos ímpares de n. Se n não tiver dígitos ímpares, a função deve devolver zero. Não pode usar cadeias de caracteres. Por exemplo,\n",
    "\n",
    "`apenas_digitos_impares(468)`\n",
    "\n",
    "`0`\n",
    "\n",
    "`apenas_digitos_impares(12426374856)`\n",
    "\n",
    "`1375`"
   ]
  },
  {
   "cell_type": "markdown",
   "id": "4db59e53",
   "metadata": {},
   "source": [
    "#### 2.\n",
    "Escreva a função recursiva **junta_ordenadas** que recebe como argumentos duas listas ordenadas por ordem crescente e devolve uma lista também ordenada com os elementos das duas listas. Não é necessário validar os argumentos da sua função. Por exemplo,\n",
    "\n",
    "`junta_ordenadas([2, 5, 90], [3, 5, 6, 12])`\n",
    "\n",
    "`[2, 3, 5, 5, 6, 12, 90]`"
   ]
  },
  {
   "cell_type": "markdown",
   "id": "902304a5",
   "metadata": {},
   "source": [
    "#### 3. \n",
    "Escreva a função recursiva **sublistas** que recebe uma lista, e tem como valor o número total de sublistas que esta contém. Por exemplo,\n",
    "\n",
    "`sublistas([[1], 2, [3]])`\n",
    "\n",
    "`2`\n",
    "\n",
    "`sublistas([[[[[1]]]]])`\n",
    "\n",
    "`4`\n",
    "\n",
    "`sublistas(['a', [2, 3, [[[1]], 6, 7], 'b']])`\n",
    "\n",
    "`4`"
   ]
  },
  {
   "cell_type": "markdown",
   "id": "dca509e6",
   "metadata": {},
   "source": [
    "#### 4. \n",
    "Escreva a função recursiva **soma_n_vezes** que recebe três números inteiros, $a$, $b$ e $n$, e que devolve o valor de somar $n$ vezes $a$ a $b$, ou seja, $b + \\sum_{i=1}^n a$. ***A sua função não pode usar a operação de multiplicação***. Por exemplo,\n",
    "\n",
    "`soma_n_vezes(3, 2, 5)`\n",
    "\n",
    "`17`"
   ]
  },
  {
   "cell_type": "markdown",
   "id": "9612e221",
   "metadata": {},
   "source": [
    "#### 5. \n",
    "Escreva a função recursiva **soma_els_atomicos** que recebe como argu- mento um tuplo, cujos elementos podem ser outros tuplos, e que devolve a soma dos elementos correspondentes a tipos elementares de dados que existem no tuplo original. Não é necessário verificar os dados de entrada. Por exemplo,\n",
    "\n",
    "`soma_els_atomicos((3, ((((((6, (7, ))), ), ), ), ), 2, 1))`\n",
    "\n",
    "`19`\n",
    "\n",
    "`soma_els_atomicos(((((),),),))`\n",
    "\n",
    "`0`"
   ]
  },
  {
   "cell_type": "markdown",
   "id": "541efeb9",
   "metadata": {},
   "source": [
    "#### 6.\n",
    "Escreva a função recursiva **inverte** que recebe uma lista e devolve a lista invertida. \n",
    "Não pode usar $w[::-1]$, onde $w$ é o argumento da função. Por exemplo,\n",
    "\n",
    "`inverte([3, 4, 7, 9])`\n",
    "\n",
    "`[9, 7, 4, 3]`"
   ]
  },
  {
   "cell_type": "markdown",
   "id": "a9f4020e",
   "metadata": {},
   "source": [
    "#### 7.\n",
    "Suponha que a operação *in* não existia em Python. Escreva a função recursiva **pertence** que recebe uma lista e um elemento, e que devolve *True* se o elemento pertence à lista e *False* em caso contrário. Por exemplo,\n",
    "\n",
    "`pertence([3, 4, 5], 2)`\n",
    "\n",
    "`False`\n",
    "\n",
    "`pertence([3, 4, 5], 5)`\n",
    "\n",
    "`True`"
   ]
  },
  {
   "cell_type": "markdown",
   "id": "ec8c123c",
   "metadata": {},
   "source": [
    "Faça o seguinte teste:\n",
    "\n",
    "`w = [.1, .2, .8]`\n",
    "\n",
    "`x = .7`\n",
    "\n",
    "`x += .1`\n",
    "\n",
    "`pertence(w, x)`\n",
    "\n",
    "O que terá acontecido e porquê? Como poderá alterar a função para que este problema não aconteça?"
   ]
  },
  {
   "cell_type": "markdown",
   "id": "2c3343ee",
   "metadata": {},
   "source": [
    "#### 8.\n",
    "Escreva a função recursiva **subtrai** que recebe duas listas e devolve a lista que corresponde a remover da primeira lista todos os elementos que pertencem à segunda lista. Por exemplo,\n",
    "\n",
    "`subtrai([2, 3, 4, 5, 3], [2, 3])`\n",
    "\n",
    "`[4, 5]`\n",
    "\n",
    "`subtrai([2, 3, 4, 5], [6, 7])`\n",
    "\n",
    "`[2, 3, 4, 5]`"
   ]
  },
  {
   "cell_type": "markdown",
   "id": "a9225f51",
   "metadata": {},
   "source": [
    "#### 9.\n",
    "Escreva a função recursiva **parte** que recebe uma lista de números e um número e que devolve uma lista de duas listas, a primeira lista contém os elementos da lista original menores que o número dado (pela mesma ordem) e a segunda lista contém os elementos da lista original maiores ou iguais que o número dado (pela mesma ordem). Não é necessário verificar a coreção dos dados de entrada. \n",
    "\n",
    "**Sugestão**: Use uma função auxiliar. Por exemplo,\n",
    "\n",
    "`parte([3, 5, 1, 4, 5, 8, 9], 4)`\n",
    "\n",
    "`[[3, 1], [5, 4, 5, 8, 9]]`"
   ]
  },
  {
   "cell_type": "markdown",
   "id": "b571a063",
   "metadata": {},
   "source": [
    "#### 10.\n",
    "Escreva a função recursiva **maior** que recebe uma lista (não vazia) de números e devolve o maior número da lista. **Sugestão**: Use uma função auxiliar. \n",
    "Por exemplo,\n",
    "\n",
    "`maior([5, 3, 8, 1, 9, 2])\n",
    "9`"
   ]
  },
  {
   "cell_type": "markdown",
   "id": "d020ead3",
   "metadata": {},
   "source": [
    "#### 11. \n",
    "Defina a função recursiva **lposicoes** que recebe como argumentos uma lista de números inteiros $w$ e um número inteiro $k$ e devolve a lista das posições em que $k$ ocorre em $w$. Por exemplo,\n",
    "\n",
    "`lposicoes([1,2,3,4,2,2],2)`\n",
    "\n",
    "`[1, 4, 5]`"
   ]
  },
  {
   "cell_type": "markdown",
   "id": "4481af78",
   "metadata": {},
   "source": [
    "#### 12.\n",
    "Uma lista $s$ diz-se sufixo de uma lista $w$ se $s$ for um segmento do fim de $w$. Defina a função recursiva **sufixo** que recebe como argumentos duas listas $s$ e $w$ e devolve `True` se $s$ for sufixo de $w$ e `False` em caso contrário. Por exemplo,\n",
    "\n",
    "`sufixo([3,4],[1,2,3,4])`\n",
    "\n",
    "`True`\n",
    "\n",
    "`sufixo([3,4],[1,2,3,4,5])`\n",
    "\n",
    "`False`\n",
    "\n",
    "`sufixo([1,2,3],[1,2])`\n",
    "\n",
    "`False`\n",
    "\n",
    "`sufixo([],[1])`\n",
    "\n",
    "`True`\n",
    "\n",
    "`sufixo([1,2,3],[1,2,3])`\n",
    "\n",
    "`True`"
   ]
  }
 ],
 "metadata": {
  "kernelspec": {
   "display_name": "Python 3 (ipykernel)",
   "language": "python",
   "name": "python3"
  },
  "language_info": {
   "codemirror_mode": {
    "name": "ipython",
    "version": 3
   },
   "file_extension": ".py",
   "mimetype": "text/x-python",
   "name": "python",
   "nbconvert_exporter": "python",
   "pygments_lexer": "ipython3",
   "version": "3.8.16"
  }
 },
 "nbformat": 4,
 "nbformat_minor": 5
}
