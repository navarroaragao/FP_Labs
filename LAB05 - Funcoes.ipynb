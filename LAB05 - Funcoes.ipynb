{
 "cells": [
  {
   "cell_type": "markdown",
   "id": "cdcdd18b",
   "metadata": {},
   "source": [
    "### Fundamentos da Programação - Aula Laboratorial 5\n",
    "# Funções\n",
    "\n",
    "### 1. \n",
    "Escreva a função `cinco` que devolve o valor *True* se o seu argumento for 5 e *False* no caso contrário. Não pode utilizar uma instrução `if`."
   ]
  },
  {
   "cell_type": "markdown",
   "id": "434b20f9",
   "metadata": {},
   "source": [
    "### 2.\n",
    "Defina a função `horas_dias` que recebe um inteiro correspondente a um certo número de horas e que tem como valor um número decimal que traduz o número de dias correspondentes ao seu argumento. Por exemplo\n",
    "\n",
    "```Python\n",
    "horas_dias(48)\n",
    "2.0\n",
    "\n",
    "horas_dias(10)\n",
    "0.4166666666666667\n",
    "```"
   ]
  },
  {
   "cell_type": "markdown",
   "id": "810cf326",
   "metadata": {},
   "source": [
    "### 3.\n",
    "Defina a função `area_circulo` que recebe o valor do raio de um círculo e tem como valor a área do círculo. Note-se que a área do círculo cujo raio é $r$ é dada por $\\pi r^2$. Use o valor $3.14$ para o valor de $\\pi$."
   ]
  },
  {
   "cell_type": "markdown",
   "id": "3fda7ff2",
   "metadata": {},
   "source": [
    "### 4.\n",
    "Utilizando a função *area_circulo* do exercício anterior, escreva a função `area_coroa` que recebe dois argumentos, $r1$ e $r2$, e tem como valor a área da coroa circular de raio interior $r1$ e raio exterior $r2$. A sua função deverá gerar um erro de valor (*ValueError*) se o valor de $r1$ for maior que o valor de $r2$."
   ]
  },
  {
   "cell_type": "markdown",
   "id": "36015fb4",
   "metadata": {},
   "source": [
    "### 5.\n",
    "Escreva a função `bissexto` que recebe um número inteiro correspondente a um ano e que devolve `True` se o ano for bissexto e `False` em caso contrário. Um ano é bissexto se for divisível por 4 e não for divisível por 100, a não ser que seja também divisível por 400. Por exemplo, 1984 é bissexto, 1100 não é, e 2000 é bissexto.\n",
    "\n",
    "```Python\n",
    "bissexto(1984)\n",
    "True\n",
    "\n",
    "bissexto(1985)\n",
    "False\n",
    "\n",
    "bissexto(2000)\n",
    "True\n",
    "```"
   ]
  },
  {
   "cell_type": "markdown",
   "id": "bd3f93b4",
   "metadata": {},
   "source": [
    "### 6.\n",
    "Defina a função `dias_mes`\n",
    " que recebe uma cadeia de caracteres, correspondentes às 3 primeiras letras (minúsculas) do nome de um mês e um ano, e tem como valor um número inteiro correspondendo ao número de dias desse mês. No caso de uma cadeia de caracteres inválida, a sua função deverá gerar um erro de valor (*ValueError*). Use a função *bissexto* do exercício anterior. A sua função deve permitir gerar a interação:\n",
    "\n",
    "```Python\n",
    "dias_mes('jan', 2017)\n",
    "31\n",
    "\n",
    "dias_mes('fev', 2016)\n",
    "29\n",
    "\n",
    "dias_mes('MAR', 2017)\n",
    "ValueError: Mes nao existe\n",
    "```"
   ]
  },
  {
   "cell_type": "markdown",
   "id": "8016c536",
   "metadata": {},
   "source": [
    "### 7.\n",
    "Quando se efectua um depósito a prazo de uma quantia $q$ com uma taxa\n",
    "de juros $j$ $(0 < j < 1)$, o valor do depósito ao fim de $n$ anos é dado por:\n",
    "$$q\\times(1+j)^n$$\n",
    "#### (a)\n",
    "Escreva a função `valor` que recebe como argumentos um número inteiro positivo $q$ correspondente à quantia depositada, um decimal $j$ no intervalo $]0,1[$ correspondente à taxa de juros e um inteiro positivo $n$ correspondente ao número de anos que o dinheiro está a render, e, verificando a correcção dos argumentos, devolve um decimal correspondente ao valor do depósito ao fim desse número de anos. Caso os argumentos não estejam correctos, deverá gerar um erro. Por exemplo,\n",
    "\n",
    "```Python\n",
    "valor(100, 0.03, 4)\n",
    "112.55088100000002\n",
    "```"
   ]
  },
  {
   "cell_type": "markdown",
   "id": "b30f5d9b",
   "metadata": {},
   "source": [
    "#### (b)\n",
    "Usando a função da alínea anterior, escreva uma função que calcula ao fim de quantos anos consegue duplicar o seu dinheiro. Não é necessário validar os dados de entrada. Por exemplo,\n",
    "```Python\n",
    "duplicar(100, 0.03)\n",
    "24\n",
    "```\n",
    "Suponha que não é permitido utilizar um ciclo para resolver esta questão. Conseguiria resolvê-la?"
   ]
  },
  {
   "cell_type": "markdown",
   "id": "8c353460",
   "metadata": {},
   "source": [
    "### 8.\n",
    "Escreva a função `serie_geom` que recebe um inteiro $r$ e um inteiro não negativo $n$, e devolve a soma dos primeiros n+1 termos da série geométrica $1 + r + r^2 + r^3 +\\ldots + r^n$ $\\left(\\text{i.e., }\\displaystyle\\sum_{i=0}^{n}r^i\\right)$. Por exemplo,\n",
    "\n",
    "```Python\n",
    "serie_geom(2, 4)\n",
    "31\n",
    "\n",
    "serie_geom(100, 0)\n",
    "1\n",
    "\n",
    "serie_geom(100, -1)\n",
    "ValueError: serie_geom: argumento incorrecto\n",
    "```"
   ]
  },
  {
   "cell_type": "markdown",
   "id": "cc44653d",
   "metadata": {},
   "source": [
    "### 9.\n",
    "A *congruência de Zeller* é um algoritmo inventado pelo matemático alemão Julius Christian Zeller (1822–1899) para calcular o dia da semana para qualquer dia do calendário. Para o nosso calendário, o calendário Gregoriano, a congruência de Zeller é dada por:\n",
    "$$h=\\left(q+\\left\\lfloor \\frac{13(m+1)}{5}\\right\\rfloor+K+\\left\\lfloor\\frac{K}{4}\\right\\rfloor+\\left\\lfloor\\frac{J}{4}\\right\\rfloor-2J\\right) \\mod 7$$\n",
    "em que $h$ é o dia da semana ($0 =$ Sábado, $1 =$ Domingo, ...), $q$ é o dia do mês, $m$ é o mês ($3 =$ março, $4 =$ abril, ..., $14 =$ fevereiro) – os meses de janeiro e fevereiro são contados como os meses $13$ e $14$ do ano anterior, $K$ é o ano do século (ano $\\mod 100$), $J$ é o século $\\left(\\lfloor ano/100\\rfloor\\right)$. Esta expressão utiliza a função matemática, chão, denotada por $\\lfloor\\cdot\\rfloor$, a qual converte um número real $x$ no maior número inteiro menor ou igual a $x$. A definição formal desta função é $\\lfloor x\\rfloor = \\max\\{m\\in\\mathbb Z\\,|\\,m\\leq x\\}$. A expressão utiliza também a função módulo, em que $a\\mod b$ representa o resto da divisão inteira de $a$ por $b$ (i.e., $a\\%b$). \n",
    "\n",
    "Escreva uma função em **Python**, chamada `dia_da_semana`, que recebe três inteiros correspondentes a um dia, um mês e um ano e que devolve o dia da semana em que calha essa data. A sua função pode utilizar outras funções auxiliares a definir por si. Por exemplo\n",
    "\n",
    "```Python\n",
    "dia_da_semana(18, 1, 2014)\n",
    "'sabado'\n",
    "```"
   ]
  },
  {
   "cell_type": "markdown",
   "id": "85c85274",
   "metadata": {},
   "source": [
    "### 10.\n",
    "Considere qualquer inteiro de 3 algarismos, desde que a diferença entre o seu primeiro e último dígito seja superior a $1$. Seja este número $n$. Inverta os algarismos de $n$, obtendo $n_i$. Subtraia o maior do menor, obtendo $n_s$, ou seja $n_s =| n - n_i |$. Inverta os algarismos de $n_s$, obtendo $n_{s_i}$ . Pode verificar que $n_s + n_{s_i} = 1089$. Por exemplo, suponhamos que $n = 246$, então $n_i = 642$, $n_s =396$, $n_{s_i} = 693$ e $n_s+n_{s_i} = 396 + 693 = 1089.$\n",
    "\n",
    "#### (a) \n",
    "Escreva uma função que traduza este mistério. A sua função deve garantir que o argumento é correto. Por exemplo,\n",
    "```Python\n",
    "misterio(246)\n",
    "1089\n",
    "\n",
    "misterio(131)\n",
    "'Condições não verificadas'\n",
    "```\n",
    "#### (b)\n",
    "Explique este mistério."
   ]
  },
  {
   "cell_type": "markdown",
   "id": "9bb87acc-f207-4da7-b44b-a7b9abc6e72b",
   "metadata": {},
   "source": [
    "### 11.\n",
    "Defina a função `media_digitos` que recebe como argumento um número natural e devolve a média dos seus digitos."
   ]
  },
  {
   "cell_type": "code",
   "execution_count": null,
   "id": "42a2b18c-9bd0-4b9b-b6c7-1936add80df4",
   "metadata": {},
   "outputs": [],
   "source": []
  }
 ],
 "metadata": {
  "kernelspec": {
   "display_name": "Python 3 (ipykernel)",
   "language": "python",
   "name": "python3"
  },
  "language_info": {
   "codemirror_mode": {
    "name": "ipython",
    "version": 3
   },
   "file_extension": ".py",
   "mimetype": "text/x-python",
   "name": "python",
   "nbconvert_exporter": "python",
   "pygments_lexer": "ipython3",
   "version": "3.8.18"
  }
 },
 "nbformat": 4,
 "nbformat_minor": 5
}
