{
 "cells": [
  {
   "cell_type": "markdown",
   "id": "6beb7b74",
   "metadata": {},
   "source": [
    "### Fundamentos da Programação - Aula Laboratorial 9\n",
    "# Dicionários\n",
    "\n",
    "#### 1. \n",
    "Considere a seguinte lista de dicionários na qual os significados dos campos são óbvios pelo contexto:"
   ]
  },
  {
   "cell_type": "code",
   "execution_count": null,
   "id": "5ea3d309",
   "metadata": {},
   "outputs": [],
   "source": [
    "l_nomes = [{'nome':{'nomep':'Jose', 'apelido':'Silva'},\n",
    "     'morada':{'rua':'R. dos douradores', 'num': 34, 'andar':'6 Esq',\n",
    "     'localidade':'Lisboa', 'estado':'', 'cp':'1100-032',\n",
    "     'pais':'Portugal'}}, {'nome':{'nomep':'John', 'apelido':'Doe'},\n",
    "     'morada':{'rua':'West Hazeltine Ave.', 'num': 57, 'andar':'',\n",
    "     'localidade':'Kenmore', 'estado':'NY', 'cp':'14317', 'pais':'USA'}}]"
   ]
  },
  {
   "cell_type": "markdown",
   "id": "fd527453",
   "metadata": {},
   "source": [
    "Diga quais são os valores dos seguintes nomes:\n",
    "\n",
    "(a) "
   ]
  },
  {
   "cell_type": "code",
   "execution_count": null,
   "id": "f45bf89b",
   "metadata": {},
   "outputs": [],
   "source": [
    "l_nomes[1]"
   ]
  },
  {
   "cell_type": "markdown",
   "id": "3200e8bd",
   "metadata": {},
   "source": [
    "(b) "
   ]
  },
  {
   "cell_type": "code",
   "execution_count": null,
   "id": "439bd031",
   "metadata": {},
   "outputs": [],
   "source": [
    "l_nomes[1]['nome']"
   ]
  },
  {
   "cell_type": "markdown",
   "id": "b4aec99f",
   "metadata": {},
   "source": [
    "(c) "
   ]
  },
  {
   "cell_type": "code",
   "execution_count": null,
   "id": "19cd127b",
   "metadata": {},
   "outputs": [],
   "source": [
    "l_nomes[1]['nome']['apelido'] "
   ]
  },
  {
   "cell_type": "markdown",
   "id": "94c01d26",
   "metadata": {},
   "source": [
    "(d) "
   ]
  },
  {
   "cell_type": "code",
   "execution_count": null,
   "id": "b14ce12a",
   "metadata": {},
   "outputs": [],
   "source": [
    "l_nomes[1]['nome']['apelido'][0]"
   ]
  },
  {
   "cell_type": "markdown",
   "id": "97e866bb",
   "metadata": {},
   "source": [
    "#### 2.\n",
    "Escreva a função `agrupa_por_chave` que recebe uma lista de pares, contendo uma chave e uma valor, $(k, v)$, representados por tuplos de dois elementos, e devolve um dicionário que a cada chave $k$ associa a lista com os valores $v$ para essa chave encontrados na lista que é seu argumento. Por exemplo:\n",
    "\n",
    "```Python\n",
    "agrupa_por_chave([('a', 8), ('b', 9), ('a', 3)])\n",
    "{'a': [8, 3], 'b': [9]}\n",
    "```"
   ]
  },
  {
   "cell_type": "markdown",
   "id": "fbe21767",
   "metadata": {},
   "source": [
    "#### 3.\n",
    "Uma carta de jogar é caracterizada por um naipe (espadas, copas, ouros e paus) e por um valor $(A, 2, 3, 4, 5, 6, 7, 8, 9, 10, J, Q, K)$. Uma carta pode ser representada por um dicionário com duas chaves, *'np'* e *'vlr'*, sendo um conjunto de cartas representado por uma lista de cartas.\n",
    "\n",
    "(a) Escreva uma função em Python que devolve uma lista contendo todas\n",
    "as cartas de um baralho. Por exemplo,\n",
    "\n",
    "```Python\n",
    "baralho()\n",
    "[{'np': 'esp', 'vlr': 'A'}, {'np': 'esp', 'vlr': '2'}[{'np': 'esp', 'vlr': 'A'}, {'np': 'esp', 'vlr': '2'}, ... }]\n",
    "```"
   ]
  },
  {
   "cell_type": "markdown",
   "id": "d4e613f8",
   "metadata": {},
   "source": [
    "(b) Recorrendo à função `random()` disponível na biblioteca *random*, a qual produz um número aleatório no intervalo $[0,1[$, escreva a função baralha, que recebe uma lista correspondente a um baralho de cartas e baralha (pseudo-)aleatoriamente essas cartas, devolvendo a lista que corresponde às cartas baralhadas. \n",
    "**Sugestão**: percorra sucessivamente as cartas do baralho trocando cada uma delas por uma outra carta seleccionada aleatoriamente. Por exemplo,\n",
    "\n",
    "```Python\n",
    "baralha(baralho())\n",
    "[{'np': 'esp', 'vlr': '3'}, {'np': 'esp', 'vlr': '9'},\n",
    "         {'np': 'copas', 'vlr': '6'}, {'np': 'esp', 'vlr': 'Q'},\n",
    "         {'np': 'esp', 'vlr': '7'}, {'np': 'copas', 'vlr': '8'},\n",
    "         {'np': 'copas', 'vlr': 'J'}, {'np': 'esp', 'vlr': 'K'},\n",
    "         ... ]\n",
    "```"
   ]
  },
  {
   "cell_type": "markdown",
   "id": "3b2a384b",
   "metadata": {},
   "source": [
    "(c) Escreva uma função em Python `distribui` que recebe um baralho de cartas e as distribui por $n$ jogadores, devolvendo uma lista que contém as cartas de cada jogador. O seu programa deve garantir que o número de cartas a distribuir é um múltiplo de $n$. Por exemplo,\n",
    "\n",
    "```Python\n",
    "distribui(baralha(baralho()), 4)\n",
    "[[{'np': 'esp', 'vlr': '3'}, {'np': 'esp', 'vlr': '9'}, ...],\n",
    "         [{'np': 'copas', 'vlr': '6'}, {'np': 'esp', 'vlr': 'Q'}, ...],\n",
    "         [{'np': 'esp', 'vlr': '7'}, {'np': 'copas', 'vlr': '8'}, ...],\n",
    "         [{'np': 'copas', 'vlr': 'J'}, {'np': 'esp', 'vlr': 'K'},\n",
    "         ... ]]\n",
    "```"
   ]
  },
  {
   "cell_type": "markdown",
   "id": "57814add",
   "metadata": {},
   "source": [
    "#### 4. \n",
    "Considere um dicionário que contém as notas finais dos alunos de FP. O dicionário tem como chave a nota, um número natural entre $0$ e $20$. Para cada chave do dicionário, o seu valor é uma lista com os números mecanográficos dos alunos com essa nota. Por exemplo, o dicionário poderá ser:\n",
    "\n",
    "```Python\n",
    "notas_dict = {1 : [46592, 49212, 90300, 59312], 15 : [52592, 59212], 20 : [58323]}\n",
    "```\n",
    "\n",
    "Escreva a função **resumo_FP** que recebe um dicionário com as notas finais dos alunos de FP e devolve um tuplo com dois elementos, o primeiro elemento é a média dos alunos aprovados e o segundo é número de alunos reprovados. Por exemplo:\n",
    "\n",
    "```Python\n",
    "resumo_FP(notas_dict)\n",
    "(16.666666666666668, 4)\n",
    "```"
   ]
  },
  {
   "cell_type": "markdown",
   "id": "9c432664",
   "metadata": {},
   "source": [
    "#### 5. \n",
    "Escreva a função `metabolismo` que recebe um dicionário cujas chaves correspondem a nomes de pessoas e cujos valores correspondem a tuplos, contendo o género, a idade, a altura e o peso dessa pessoa. A sua função devolve um dicionário que associa a cada pessoa o seu índice de metabolismo basal. Sendo $s$ o sexo, $i$ a idade, $h$ a altura e $p$ o peso de uma pessoa, o metabolismo basal, $m$, é definido do seguinte modo:\n",
    "$$\n",
    "m(s,i,h,p) =\n",
    "\\begin{cases}\n",
    "66+6.3p+12.9h+6.8i,&\\text{se }s=M\\\\\n",
    "655+4.3p+4.7h+4.7i,&\\text{se }s=F\n",
    "\\end{cases}.\n",
    "$$\n",
    "Não é necessário validar os dados de entrada. Por exemplo:\n",
    "\n",
    "```Python\n",
    "d = {'Maria' : ('F', 34, 1.65, 64), 'Pedro': ('M', 34, 1.65, 64), 'Ana': ('F', 54, 1.65, 120), 'Hugo': ('M', 12, 1.82, 75)}\n",
    "\n",
    "metabolismo(d)\n",
    "{'Maria': 1097.755, 'Pedro': 721.685, 'Ana': 1432.555, 'Hugo': 643.578}\n",
    "```"
   ]
  },
  {
   "cell_type": "markdown",
   "id": "48bde5db",
   "metadata": {},
   "source": [
    "#### 6. \n",
    "Escreva uma função `conta_palavras` que recebe uma cadeia de caracteres correspondente a um texto e que produz uma lista de todas as palavras que este contém, juntamente com o número de vezes que essa palavra aparece no texto. \n",
    "\n",
    "**Sugestão:** guarde cada palavra como uma entrada num dicionário contendo o número de vezes que esta apareceu no texto. por exemplo,\n",
    "\n",
    "```Python\n",
    "cc = 'a aranha arranha a ra a ra arranha a aranha nem a aranha arranha a ra nem a ra arranha a aranha'\n",
    "\n",
    "conta_palavras(cc)\n",
    "{'aranha': 4, 'arranha': 4, 'ra': 4, 'a': 8, 'nem': 2}\n",
    "```"
   ]
  },
  {
   "cell_type": "markdown",
   "id": "dc7b77d7",
   "metadata": {},
   "source": [
    "#### 7. \n",
    "Usando a ordenação por borbulhamento (*bubble sort*), escreva a função `mostra_ordenado` que apresenta, por ordem lexicográfica, os resultados produzidos pelo exercício anterior. Por exemplo, \n",
    "\n",
    "```Python\n",
    "mostra_ordenado(conta_palavras(cc))\n",
    "\n",
    "a 8\n",
    "aranha 4\n",
    "arranha 4\n",
    "nem 2\n",
    "ra 4\n",
    "```"
   ]
  },
  {
   "cell_type": "markdown",
   "id": "8a26d5f7",
   "metadata": {},
   "source": [
    "#### 8. \n",
    "Uma matriz é dita esparsa (ou rarefeita) quando a maior parte dos seus elementos é zero. As matrizes esparsas aparecem em grande número de aplicações em engenharia. Uma matriz esparsa pode ser representada por um dicionário cujas chaves correspondem a tuplos que indicam a posição de um elemento na matriz (linha e coluna) e cujo valor é o elemento nessa posição da matriz. Por exemplo, \n",
    "```Python\n",
    "{(3, 2): 20, (150, 2): 6, (300, 10): 20}\n",
    "````\n",
    "corresponde a uma matriz esparsa com apenas três elementos diferentes de zero. \n",
    "\n",
    "(a) Escreva uma função em Python `escreve_esparsa` que recebe uma matriz esparsa e a escreve sob a forma normal (na qual os elementos cujo valor é zero são explicitados),  \n",
    "$$\n",
    "\\begin{array}{cccc}\n",
    "a_{11} & a_{12} & \\cdots & a_{1m} \\\\\n",
    "a_{21} & a_{22} & \\cdots & a_{2m} \\\\\n",
    "\\vdots & & \\ddots & \\vdots \\\\\n",
    "a_{n1} & a_{n2} & \\cdots & a_{nm} \\\\\n",
    "\\end{array}\n",
    "$$"
   ]
  },
  {
   "cell_type": "markdown",
   "id": "e7408316",
   "metadata": {},
   "source": [
    "(b) Escreva uma função em Python `soma_esparsa` que recebe duas matrizes esparsas e devolve a sua soma. Por exemplo,\n",
    "\n",
    "```Python\n",
    "e1 = {(1,5): 4, (2, 3): 9, (4, 1): 1}\n",
    "e2 = {(1, 6): 2, (4, 1): 2, (5,4): 2}\n",
    "\n",
    "soma_esparsa(e1, e2)\n",
    "{(1, 5): 4, (2, 3): 9, (4, 1): 3, (1, 6): 2, (5, 4): 2}\n",
    "```"
   ]
  },
  {
   "cell_type": "markdown",
   "id": "82a02c7a",
   "metadata": {},
   "source": [
    "(c) Escreva uma função em Python `prod_esparsa` que recebe duas matrizes esparsas e devolve o seu produto. Por exemplo,\n",
    "\n",
    "```Python\n",
    "e1 = {(0, 0): 2, (0, 3): 1, (1, 0): -1, (1, 2): 1, (2, 1): 3}\n",
    "e2 = {(0, 0): 4, (1, 1): 1}\n",
    "\n",
    "prod_esparsa(e1, e2)\n",
    "{(0, 0): 8, (1, 0): -4, (2, 1): 3}\n",
    "```"
   ]
  },
  {
   "cell_type": "markdown",
   "id": "b8565f45",
   "metadata": {},
   "source": [
    "#### 9. \n",
    "Suponha que `bib` é uma lista cujos elementos são dicionários e que contém a informação sobre os livros existentes numa biblioteca. Cada livro é caracterizado pelo seus autores, título, casa editora, cidade de publicação, ano de publicação, número de páginas e ISBN. Por exemplo, a seguinte lista corresponde a uma biblioteca com dois livros:\n",
    "\n",
    "```Python\n",
    "bib = [{'autores': ['G. Arroz', 'J. Monteiro', 'A. Oliveira'], 'titulo': 'Arquitectura de computadores', 'editor': 'IST Press', 'cidade': 'Lisboa', 'ano': 2007, 'numpags': 799, 'isbn': '978-972-8469-54-2'}, {'autores': ['J.P. Martins'], 'titulo': 'Logica e Raciocinio', 'editor': 'College Publications', 'cidade': 'Londres', 'ano': 2014, 'numpags': 438, 'isbn': '978-1-84890-125-4'}]\n",
    "```\n",
    "\n",
    "Escreva um programa em Python `mais_antigo` que recebe a informação de uma biblioteca e devolve o título do livro mais antigo. Por exemplo:\n",
    "\n",
    "```Python\n",
    "mais_antigo(bib)\n",
    "'Arquitectura de computadores'\n",
    "```"
   ]
  },
  {
   "cell_type": "markdown",
   "id": "cfddbf80",
   "metadata": {},
   "source": [
    "#### 10. \n",
    "Um número racional na forma canónica é um número da forma $n/d$ em que $n$ é inteiro e $d$ é inteiro não nulo, $d$ e $n$  são coprimos (primos entre si, ou seja, o máximo divisor comum entre ambos é $1$). Suponha que o número racional $n/d$ é representado pelo dicionário \n",
    "\n",
    "```Python\n",
    "{'n': n, 'd': d}\n",
    "```\n",
    "\n",
    "(a) Escreva a função `cria_racional` que recebe dois inteiros e devolve o dicionário correspondente ao racional cujo numerador é o primeiro inteiro e cujo denominador é o segundo inteiro. A sua função deve fazer a verificação dos dados de entrada. Por exemplo, \n",
    "\n",
    "```Python\n",
    "cria_racional(4, 6)\n",
    "{'d': 3, 'n': 2}\n",
    "\n",
    "cria_racional(4, 0)\n",
    "ValueError: o denominador não pode ser 0\n",
    "\n",
    "cria_racional(4.3, 2)\n",
    "ValueError: os números devem ser inteiros\n",
    "```"
   ]
  },
  {
   "cell_type": "markdown",
   "id": "1e03be30",
   "metadata": {},
   "source": [
    "(b) Escreva a função `escreve_racional` que recebe um dicionário correspondente a um racional e escreve o racional sob a forma $n/d$ se $d\\neq 1$ e $n$ se $d=1$. Por exemplo,\n",
    "\n",
    "```Python\n",
    "escreve_racional(cria_racional(4, 6))\n",
    "'2/3'\n",
    "```"
   ]
  },
  {
   "cell_type": "markdown",
   "id": "fdef6c42",
   "metadata": {},
   "source": [
    "(c) Escreva a função `soma_racionais` que recebe dois racionais e devolve o número racional correspondente à sua soma. A soma dos racionais $a/b$ e $d/e$ é dada por $(a\\times e+b\\times d)/(b\\times e)$. Por exemplo,\n",
    "\n",
    "```Python\n",
    "escreve_racional(soma_racionais(cria_racional(4, 6), cria_racional(2, 3)))\n",
    "'4/3'\n",
    "```"
   ]
  },
  {
   "cell_type": "markdown",
   "id": "3e2afe38",
   "metadata": {},
   "source": [
    "(d) Escreva a função `prod_racionais` que recebe dois racionais e devolve o número racional correspondente ao seu produto. O produto dos racionais $a/b$ e $d/e$ é dada por $(a\\times d)/(b\\times e)$. Por exemplo,\n",
    "\n",
    "```Python\n",
    "escreve_racional(prod_racionais(cria_racional(4, 6), cria_racional(2, 3)))\n",
    "'4/9'\n",
    "```"
   ]
  },
  {
   "cell_type": "markdown",
   "id": "0a24b159",
   "metadata": {},
   "source": [
    "#### 11. \n",
    "Um tabuleiro de xadrez tem $64$ posições organizadas em $8$ linhas e $8$ colunas. As linhas são numeradas de $1$ a $8$ e as colunas de $A$ a $H$, sendo a posição inferior esquerda a $1, A$. Neste tabuleiro são colocadas peças de duas cores (brancas e pretas) e de diferentes tipos (rei, rainha, bispo, torre, cavalo e peão). Um tabuleiro de um jogo de xadrez pode ser representado por um dicionário cujos elementos são do tipo `(l, c): (cor, t)`. Por exemplo o elemento do dicionário `(5, 'C'): (branca, rainha)` indica que a rainha branca está na segunda linha, terceira coluna (figura abaixo).\n",
    "\n",
    "<div>\n",
    "<img src=\"./imgs/xadrez.png\" width=\"500\"/>\n",
    "</div>\n",
    "\n",
    "A situação do jogo de xadrez apresentado na figura acima é representada pelo seguinte dicionário:\n",
    "\n",
    "```Python\n",
    "j = {(1, 'H'): ('branca', 'torre'), (2, 'F'): ('branca', 'peao'), (2, 'G'): ('branca', 'rei'), (6, 'F'): ('branca', 'bispo'), (5, 'C'): ('branca', 'rainha'), (6, 'G'): ('preta', 'peao'), (7, 'F'): ('preta', 'peao'), (8, 'F'): ('preta', 'torre'), (8, 'G'): ('preta', 'rei'), (2, 'C'): ('preta', 'peao')}\n",
    "```\n",
    "\n",
    "Num jogo de xadrez, a rainha movimenta-se na vertical, na horizontal ou nas diagonais e pode atacar qualquer peça da cor contrária que possa ser atingida num dos seus movimentos, desde que não existam outras peças no caminho. Escreva uma função em *Python*, `ataques_rainhas`, que recebe um tabuleiro de xadrez e determina quais as peças que podem ser atacadas pelas rainhas. Esta função deve devolver um dicionário que associa à chave `branca` a lista de peças que a rainha branca pode atacar e *mutatis mutandis* para a chave `preta`. O valores associados a cada chave deve ser como no exemplo seguinte: \n",
    "\n",
    "```Python\n",
    "ataques_rainhas(j)\n",
    "{'branca': [['peao', 'preta', (2, 'C')], ['torre', 'preta', (8, 'F')]], 'preta': []}\n",
    "```"
   ]
  },
  {
   "cell_type": "markdown",
   "id": "34b3d779-5f9d-469c-864c-70eca5716e86",
   "metadata": {},
   "source": [
    "#### 12.\n",
    "O h-index (ou [índice h](https://pt.wikipedia.org/wiki/%C3%8Dndice_h)) é uma métrica usada para avaliar a produtividade e o impacto de um investigador científico, baseado na quantidade de publicações e no número de citações que essas publicações receberam. Foi proposto pelo físico Jorge E. Hirsch, em 2005. \n",
    "O h-index de um investigador é definido como o maior número $h$ tal que o investigador tem pelo menos $h$ publicações que foram citadas pelo menos $h$ vezes cada uma. Suponha que o conjunto de publicações de um investigador é representado por um dicionário cujas chaves são os títulos das publicações e os valores o respectivo número de citações. Por exemplo,\n",
    "```Python\n",
    "pubs = {'Publicação A': 10, 'Publicação B': 5, 'Publicação C': 4, 'Publicação D': 3, 'Publicação E': 8}\n",
    "```\n",
    "Implemente a função `h_index` que recebe como input um dicionário no formato acima descrito e que devolve o h-index do investigador que tem as publicações e citações plasmadas nesse dicionário. Para o exemplo acima,\n",
    "\n",
    "```Python\n",
    "h_index(pubs)\n",
    "4\n",
    "```\n",
    "**Dica**: Para facilitar a resolução, poderá não ser despiciendo ordenar as publicações pelo número de citações. \n",
    "\n",
    "Se seguiu a dica, faça uma segunda implementação na qual não utilize ordenação e compare a complexidade computacional de ambas as versões. "
   ]
  },
  {
   "cell_type": "code",
   "execution_count": null,
   "id": "37efd82b-a711-4a41-8c65-88f0f5886184",
   "metadata": {},
   "outputs": [],
   "source": []
  }
 ],
 "metadata": {
  "kernelspec": {
   "display_name": "Python 3 (ipykernel)",
   "language": "python",
   "name": "python3"
  },
  "language_info": {
   "codemirror_mode": {
    "name": "ipython",
    "version": 3
   },
   "file_extension": ".py",
   "mimetype": "text/x-python",
   "name": "python",
   "nbconvert_exporter": "python",
   "pygments_lexer": "ipython3",
   "version": "3.8.18"
  }
 },
 "nbformat": 4,
 "nbformat_minor": 5
}
