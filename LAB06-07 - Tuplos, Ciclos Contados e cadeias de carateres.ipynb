{
 "cells": [
  {
   "cell_type": "markdown",
   "id": "8845dc9c",
   "metadata": {},
   "source": [
    "### Fundamentos da Programação - Aula Laboratorial 6 e 7\n",
    "# Tuplos, ciclos contados e cadeias de carateres\n",
    "\n",
    "#### 1. \n",
    "Considere as seguintes instruções em Python:"
   ]
  },
  {
   "cell_type": "code",
   "execution_count": 1,
   "id": "8f3bc42b",
   "metadata": {},
   "outputs": [
    {
     "name": "stdout",
     "output_type": "stream",
     "text": [
      "Soma = 10\n"
     ]
    }
   ],
   "source": [
    "soma = 0\n",
    "i = 20\n",
    "while i > 0:\n",
    "    soma = soma + 1\n",
    "    i = i - 2\n",
    "print('Soma =', soma)"
   ]
  },
  {
   "cell_type": "markdown",
   "id": "4ca3d84a",
   "metadata": {},
   "source": [
    "Escreva instruções equivalentes utilizando um ciclo **for**."
   ]
  },
  {
   "cell_type": "markdown",
   "id": "de9f4f53",
   "metadata": {},
   "source": [
    "#### 2.\n",
    "Escreva a função `explode` que recebe um número inteiro positivo, verificando a correção do seu argumento, e devolve o tuplo contendo os dígitos desse número, pela ordem em que aparecem no número. Por exemplo\n",
    "\n",
    "```Python\n",
    "explode(34500)\n",
    "(3, 4, 5, 0, 0)\n",
    "\n",
    "explode(3.5)\n",
    "ValueError: explode: argumento não inteiro positivo\n",
    "```"
   ]
  },
  {
   "cell_type": "markdown",
   "id": "f3e263ed",
   "metadata": {},
   "source": [
    "Será possível definir a função utilizando um ciclo `for`?"
   ]
  },
  {
   "cell_type": "markdown",
   "id": "f9d7e46b",
   "metadata": {},
   "source": [
    "#### 3. \n",
    "Escreva a função `implode` que recebe um tuplo contendo algarismos, verificando a correção do seu argumento, e devolve o número inteiro contendo os algarismos do tuplo, pela ordem em que aparecem. Por exemplo\n",
    "```Python\n",
    "implode((3, 4, 0, 0, 4))\n",
    "34004\n",
    "\n",
    "implode((2, 'a', 5))\n",
    "ValueError: implode: elemento não algarismo\n",
    "```\n",
    "Escreva duas versões da sua função, uma utilizando um ciclo `while` e outra utilizando um ciclo `for`."
   ]
  },
  {
   "cell_type": "markdown",
   "id": "8ba31b0f",
   "metadata": {},
   "source": [
    "#### 4.\n",
    "Escreva a função `filtra_pares` que recebe um tuplo contendo algarismos, verificando a correção do seu argumento, e devolve o tuplo contendo apenas os algarismos pares. Por exemplo\n",
    "\n",
    "```Python\n",
    "filtra_pares((2, 5, 6, 7, 9, 1, 8, 8))\n",
    "(2, 6, 8, 8)\n",
    "```"
   ]
  },
  {
   "cell_type": "markdown",
   "id": "1e25cef1",
   "metadata": {},
   "source": [
    "#### 5.\n",
    "Recorrendo às funções `explode`, `implode` e `filtra_pares`, defina a função `algarismos_pares` que recebe um inteiro e devolve o inteiro que apenas contém os algarismos pares do número original. Por exemplo,\n",
    "\n",
    "```Python\n",
    "algarismos_pares(6643399766641)\n",
    "6646664\n",
    "```"
   ]
  },
  {
   "cell_type": "markdown",
   "id": "687212fe",
   "metadata": {},
   "source": [
    "#### 6.\n",
    "Escreva a função `num_para_seq_cod` que recebe um número inteiro positivo e que devolve um tuplo contendo os algarismos codificados desse número do seguinte modo: \n",
    "* (a) cada algarismo par é substituído pelo número par seguinte, entendendo-se que o número par seguinte a 8 é o 0; \n",
    "* (b) cada algarismo ímpar é substituído pelo número ímpar anterior, entendendo-se que o número ímpar anterior a 1 é o 9. \n",
    "Por exemplo,\n",
    "\n",
    "```Python\n",
    "num_para_seq_cod(1234567890)\n",
    "(9, 4, 1, 6, 3, 8, 5, 0, 7, 2)\n",
    "```"
   ]
  },
  {
   "cell_type": "markdown",
   "id": "17f35552",
   "metadata": {},
   "source": [
    "#### 7.\n",
    "Duas palavras de igual comprimento dizem-se “amigas” se o número de posições em que os respetivos caracteres diferem for inferior a 10%. Escreva o predicado `amigas` que recebe como argumentos duas cadeias de caracteres e devolve verdadeiro se os seus argumentos corresponderem a palavras amigas e falso em caso contrário. Por exemplo:\n",
    "\n",
    "```Python\n",
    "amigas('amigas', 'amigas')\n",
    "True\n",
    "\n",
    "amigas('amigas', 'asigos')\n",
    "False\n",
    "```"
   ]
  },
  {
   "cell_type": "markdown",
   "id": "d004820e",
   "metadata": {},
   "source": [
    "#### 8.\n",
    "Defina a função `junta_ordenados` que recebe dois tuplos contendo inteiros, ordenados por ordem crescente. e devolve um tuplo também ordenado com os elementos dos dois tuplos. Por exemplo,\n",
    "\n",
    "```Python\n",
    "junta_ordenados((2, 34, 200, 210), (1, 23))\n",
    "(1, 2, 23, 34, 200, 210)\n",
    "```"
   ]
  },
  {
   "cell_type": "markdown",
   "id": "a0dda1b8",
   "metadata": {},
   "source": [
    "#### 9. \n",
    "Considere a gramática em notação BNF:\n",
    "$$\n",
    "\\begin{array}{rcl}\n",
    "\\langle idt\\rangle & ::= & \\langle letras\\rangle \\langle numeros\\rangle\\\\\n",
    "\\langle letras\\rangle & ::= & \\langle letra\\rangle |\n",
    "                \\langle letra\\rangle \\langle letras\\rangle\\\\\n",
    "\\langle numeros\\rangle & ::= & \\langle num\\rangle |\n",
    "                \\langle num\\rangle \\langle numeros\\rangle\\\\\n",
    "\\langle letra\\rangle & ::= & A | B | C | D\\\\\n",
    "\\langle num\\rangle & ::= & 1 | 2 | 3 | 4\n",
    "\\end{array}$$\n",
    "Escreva a função `reconhece`, que recebe como argumento uma cadeia de carateres e devolve verdadeiro se o seu argumento corresponde a uma frase da linguagem definida pela gramática e falso em caso contrário. Por exemplo,\n",
    "\n",
    "```Python\n",
    "reconhece('A1')\n",
    "True\n",
    "\n",
    "reconhece('ABBBBCDDDD23311')\n",
    "True\n",
    "\n",
    "reconhece('ABC12C')\n",
    "False\n",
    "```"
   ]
  },
  {
   "cell_type": "markdown",
   "id": "124bdd2c",
   "metadata": {},
   "source": [
    "#### 10.\n",
    "Um método básico para codificar um texto corresponde a isolar os caracteres nas posições pares para um lado e os caracteres nas posições ímpares para outro, juntando depois as duas partes anteriormente obtidas. Por exemplo, o texto **abcde** é codificado por **acebd**.\n",
    "* (a) Defina uma função `codifica` que codifica uma cadeia de caracteres de acordo com o algoritmo apresentado. Não é necessário validar os dados de entrada. Por exemplo,\n",
    "```Python\n",
    "codifica('abcde')\n",
    "'acebd'\n",
    "```\n",
    "* (b) Defina uma função `descodifica` que descodifica uma cadeia de caracteres de acordo com o algoritmo apresentado. Não é necessário validar os dados de entrada. Por exemplo,\n",
    "```Python\n",
    "descodifica('acebd')\n",
    "'abcde'\n",
    "```"
   ]
  },
  {
   "cell_type": "markdown",
   "id": "45bfe235-7d04-406c-8306-c62256f68a6c",
   "metadata": {},
   "source": [
    "### 11. \n",
    "Defina a função `posicoes_maximo` que recebe como argumento um tuplo de inteiros $w$ e devolve o tuplo das posições onde ocorre maior elemento. Por exemplo,\n",
    "\n",
    "```Python\n",
    "posicoes_maximo((1, 2, 3, 2, 1, 2, 3))\n",
    "(2, 6)\n",
    "```"
   ]
  },
  {
   "cell_type": "markdown",
   "id": "0222ae5d-b966-44f8-ac22-0c95cb5351a5",
   "metadata": {},
   "source": [
    "#### 12.\n",
    "Defina a função `apaga1` que recebe como argumentos um tuplo de inteiros $t$ e um inteiro $k$ e devolve o tuplo que se obtem de apagar de $t$ a primeira ocorrência de $k$. Por exemplo,\n",
    "```Python\n",
    "apaga1((1, 2, 4, 2, 1), 2)\n",
    "(1, 4, 2, 1)\n",
    "```"
   ]
  },
  {
   "cell_type": "markdown",
   "id": "a953bcb0-e81b-40e8-b630-e94e3cf5996b",
   "metadata": {},
   "source": [
    "#### 13.\n",
    "Defina a função `permutacao` que recebe como argumentos dois tuplos $w1$ e $w2$ e devolve `True` se $w1$ for uma permutação de $w2$ e `False`, caso contrário. Por exemplo,\n",
    "```Python\n",
    "permutacao((1, 2, 3), (1, 2, 3))\n",
    "True\n",
    "\n",
    "permutacao((1, 2, 3), (2, 3, 1))\n",
    "True\n",
    "\n",
    "permutacao((1, 1, 1, 2, 3), (1, 2, 3))\n",
    "False\n",
    "\n",
    "permutacao((1, 2, 3), (1, 2, 3, 4))\n",
    "False\n",
    "```\n",
    "**Sugestão**: recorde a função que definiu no exercício predecessor. "
   ]
  },
  {
   "cell_type": "code",
   "execution_count": null,
   "id": "2353c67c-b163-40cd-b3f9-23a9e60efccf",
   "metadata": {},
   "outputs": [],
   "source": []
  }
 ],
 "metadata": {
  "kernelspec": {
   "display_name": "Python 3 (ipykernel)",
   "language": "python",
   "name": "python3"
  },
  "language_info": {
   "codemirror_mode": {
    "name": "ipython",
    "version": 3
   },
   "file_extension": ".py",
   "mimetype": "text/x-python",
   "name": "python",
   "nbconvert_exporter": "python",
   "pygments_lexer": "ipython3",
   "version": "3.8.18"
  }
 },
 "nbformat": 4,
 "nbformat_minor": 5
}
