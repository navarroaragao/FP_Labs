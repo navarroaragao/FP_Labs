{
 "cells": [
  {
   "cell_type": "markdown",
   "id": "be5e0cf1-9afc-4dd4-b3c5-7114bba665f8",
   "metadata": {},
   "source": [
    "### Fundamentos da Programação - Aula Laboratorial 10\n",
    "\n",
    "# Abstração de dados"
   ]
  },
  {
   "cell_type": "markdown",
   "id": "d386a5c4-6ad5-4c7b-a3df-aa2c7e858d00",
   "metadata": {},
   "source": [
    "#### 1.\n",
    "Considere o tipo abstrato de dados `stack` (pilha) de números naturais ($\\mathbb N$), com o conjunto de operações básicas que se segue:\n",
    "\n",
    "* **Construtores**\n",
    "    - `new()` - cria uma pilha vazia.\n",
    "    - `push(x,s)` - devolve a pilha que se obtém da pilha `s` sobrepondo-lhe o elemento `x`.\n",
    "    - `clone(s)` - devolve uma cópia da pilha `s`. \n",
    "* **Selectores**\n",
    "    - `pop(s)` - devolve a pilha que se obtém da pilha `s` retirando-lhe o elemento no topo.\n",
    "    - `top(s)` - devolve o elemento que se encontra no topo da pilha `s`, sem a alterar.\n",
    "* **Testes**\n",
    "    - `is_empty(s)` - devolve `True` se `s` é a pilha  vazia e `False` em caso contrário.\n",
    "\n",
    "<div style=\"text-align: center;\">\n",
    "  <img src=\"imgs/stack.jpg\" alt=\"exemplo de pilha\" width=\"300\"/>\n",
    "</div>"
   ]
  },
  {
   "cell_type": "markdown",
   "id": "1bfd2ebd-ba01-478f-9777-5cb9db4b1c6e",
   "metadata": {},
   "source": [
    "a) Defina as seguintes operações (de alto nível) que utilizam o TAD *pilha*, sem assumir que a pilha é mutável ou imutável:\n",
    "\n",
    "1. `show(s)` - mostra o conteúdo da pilha `s`.\n",
    "1. `total(s)` - recebe uma pilha de números naturais e devolve a soma dos seus elementos.\n",
    "2. `inverse(s)` - devolve uma pilha com os elementos de `s` por ordem inversa.\n",
    "3. `noc(x,s)` - devolve o número de ocorrências de `x` na pilha `s`.\n",
    "4. `is_substack(s1,s2)` - devolve `True` se a pilha `s1` for subpilha de `s2`, devolve `False` em caso contrário. Uma pilha `s1` diz-se *subpilha* de uma pilha `s2` se `s2` é igual a `s1` ou `s2` pode ser obtida de `s1` sobrepondo-lhe alguns elementos.\n",
    "5. `overlap(s1,s2)` - devolve a pilha que se obtém de sobrepôr os elementos de `s1` aos de `s2`, mantendo a ordem. "
   ]
  },
  {
   "cell_type": "markdown",
   "id": "c7b07d25-dc68-4701-969e-dcf91b31c216",
   "metadata": {},
   "source": [
    "b) Importe o módulo  `stack`, com uma implementação do TAD e respectivas operações básicas e teste as operações para aferir que se comportam como desejado. \n",
    "\n",
    "```Python\n",
    "from stack import *\n",
    "\n",
    "s1 = push(1, push(2, push(3, new())))\n",
    "\n",
    "show(s1)\n",
    "1\n",
    "2\n",
    "3\n",
    "\n",
    "total(s1)\n",
    "6\n",
    "\n",
    "s2 = inverse(s1)\n",
    "show(s2)\n",
    "3\n",
    "2\n",
    "1\n",
    "\n",
    "noc(3,s1)\n",
    "1\n",
    "\n",
    "s3 = push(2, push(3, new()))\n",
    "is_substack(s3,s1)\n",
    "True\n",
    "\n",
    "is_substack(s2,s1)\n",
    "False\n",
    "\n",
    "show(s1)\n",
    "1\n",
    "2\n",
    "3\n",
    "\n",
    "s4 = push(8, push(9, new()))\n",
    "s5 = overlap(s4,s1)\n",
    "show(s5)\n",
    "8\n",
    "9\n",
    "1\n",
    "2\n",
    "3\n",
    "```"
   ]
  },
  {
   "cell_type": "markdown",
   "id": "a521ec36-0428-49d9-83d0-735f538a0020",
   "metadata": {},
   "source": [
    "c) Importe o módulo `stack2`, uma outra implementação, e volte a testar as operações de alto nível, sem as alterar. \n",
    "```Python\n",
    "from stack2 import *\n",
    "```\n",
    "Repetir os testes anteriores. \n",
    "\n",
    "**Sugestão**: reinicie o Kernel para se certificar de que a segunda implementação é efetivamente importada.\n",
    "\n",
    "**NOTA**: Se por ventura as operações de alto nível apresentarem um comportamento distinto, então não terá respeitado a camada de abstração do TAD ao construir as funções de alto nível."
   ]
  },
  {
   "cell_type": "markdown",
   "id": "97f16a48",
   "metadata": {},
   "source": [
    "#### 2. \n",
    "Suponha que desejava criar o tipo *racional*. Um número racional é qualquer número que possa ser expresso como o quociente de dois inteiros: o numerador (um inteiro positivo, negativo ou nulo) e o denominador (um inteiro positivo). Recorde que os racionais $a/b$ e $c/d$ são iguais *se e só se* $a \\times d = b \\times c$. \n",
    "\n",
    "As operações básicas para o tipo *racional* são as seguintes:\n",
    "* ***Construtores***:\n",
    "    * `cria_rac`: $\\mathbb Z \\times \\mathbb N^+\\to$ *racional*. `cria_rac(n, d)` tem como valor o número racional cujo numerador é n e cujo denominador é $d$ $(d > 0)$.\n",
    "* ***Seletores***:\n",
    "    * `num` : *racional* $\\to \\mathbb Z$. `num(r)` tem como valor o numerador do racional $r$.\n",
    "    * `den`: *racional* $\\to \\mathbb N^+$. `den(r)` tem como valor o denominador do racional $r$.\n",
    "* ***Reconhecedores***:\n",
    "    * `eh_racional`: *universal* $\\to$ $\\{$ `True`, `False` $\\}$. `eh_racional(arg)` tem o valor `True` se `arg` é um número racional e tem o valor `False` em caso contrário.\n",
    "    * `eh_rac_zero`: *racional* $\\to$ $\\{$ `True`, `False` $\\}$. `eh_rac_zero(arg)` tem o valor `True` se `arg` é o número racional zero e tem o valor `False` em caso contrário.\n",
    "* ***Testes***:\n",
    "    * `rac_iguais` : *racional* $\\times$ *racional* $\\to$ $\\{$ `True`, `False` $\\}$. `rac_iguais(r1,r2)` tem o valor `True` se `r1` e `r2` corresponderem ao mesmo número racional e tem o valor `False` em caso contrário.\n",
    "\n",
    "(a) Escreva a função produto_rac que calcula o produto de dois racionais. Se $r_1 = \\displaystyle\\frac{a}{b}$ e $r_2 = \\displaystyle\\frac{c}{d}$ então $r_1 \\times r_2 = \\displaystyle\\frac{ac}{bd}$. Por exemplo,\n",
    "\n",
    "`escreve_rac(produto_rac(cria_rac(1,3), cria_rac(3,4)))`\n",
    "\n",
    "`'3/12'`\n",
    "\n",
    "**Nota:** esta função é uma função de alto nível, pois não pertence às operações básicas e, como tal, não pode usar a representação.\n",
    "\n",
    "(b) Escolha uma representação para o tipo *racional* usando dicionários.\n",
    "\n",
    "(c) Escreva as operações básicas utilizando a representação escolhida.\n",
    "\n",
    "(d) Escreva o transformador de saída para o tipo *racional*. Por exemplo, \n",
    "\n",
    "`escreve_rac(cria_rac(1, 3))`\n",
    "\n",
    "`'1/3'`"
   ]
  },
  {
   "cell_type": "markdown",
   "id": "d7245955",
   "metadata": {},
   "source": [
    "(e) Repita *(b)-(d)* usando como representação para o tipo *racional* um tuplo. Verifique que a função desenvolvida em *(a)* funciona corretamente sem quaisquer alterações.  "
   ]
  },
  {
   "cell_type": "markdown",
   "id": "8008d6bb",
   "metadata": {},
   "source": [
    "#### 3. \n",
    "Suponha que desejava criar o tipo *relógio* para representar um instante de tempo dentro de um dia. Suponha que um relógio é caracterizado por um triplo de inteiros positivos, correspondentes às horas (entre 0 e 23), aos minutos (entre 0 e 59) e aos segundos (entre 0 e 59).\n",
    "\n",
    "As operações básicas para o tipo *relógio* são as seguintes:\n",
    "* ***Construtores***:\n",
    "    * `cria_rel`: $\\mathbb N^3\\to$ *relógio*. `cria_rel(h, m, s)` tem como valor o relógio cujas horas são `h`, os minutos são `m` e os segundos são `s`.\n",
    "* ***Seletores***:\n",
    "    * `horas` : *relógio* $\\to \\mathbb N$. `horas(r)` tem como valor as horas do relógio $r$.\n",
    "    * `minutos` : *relógio* $\\to \\mathbb N$. `minutos(r)` tem como valor os minutos do relógio $r$.\n",
    "    * `segundos` : *relógio* $\\to \\mathbb N$. `segundos(r)` tem como valor os segundos do relógio $r$.\n",
    "* ***Reconhecedores***:\n",
    "    * `eh_relogio`: *universal* $\\to$ $\\{$ `True`, `False` $\\}$. `eh_relogio(arg)` tem o valor `True` se `arg` é um  relógio e tem o valor `False` em caso contrário.\n",
    "    * `eh_meia_noite`: *relógio* $\\to$ $\\{$ `True`, `False` $\\}$. `eh_meia_noite(r)` tem o valor `True` se `r` é um relógio com as horas $00:00:00$ e `False` em caso contrário.\n",
    "    * `eh_meio_dia`: *relógio* $\\to$ $\\{$ `True`, `False` $\\}$. `eh_meia_noite(r)` tem o valor `True` se `r` é um relógio com as horas $12:00:00$ e `False` em caso contrário.\n",
    "* ***Testes***:\n",
    "    * `mesmas_horas` : *relógio*$^2$ $\\to$ $\\{$ `True`, `False` $\\}$. `mesmas_horas(r1,r2)` tem o valor `True` se `r1` e `r2` corresponderem a relógio com as mesmas horas e tem o valor `False` em caso contrário.\n",
    "    "
   ]
  },
  {
   "cell_type": "markdown",
   "id": "d551c3e5",
   "metadata": {},
   "source": [
    "(a) Escreva o predicado **depois_rel** que recebe dois relógios e devolve verdadeiro apenas se o segundo relógio corresponder a horas do dia posteriores ao primeiro relógio. "
   ]
  },
  {
   "cell_type": "markdown",
   "id": "c50afb8d",
   "metadata": {},
   "source": [
    "(b) Escreva a função **dif_segs** que calcula o número de segundos entre dois instantes, representados por dois relógios. Esta função apenas deve produzir um valor se o segundo instante de tempo for posterior ao primeiro, gerando uma mensagem de erro se essa condição não se verificar. Por exemplo,\n",
    "\n",
    "`dif_segs(cria_rel(10, 2, 34), cria_rel(11, 21, 34))`\n",
    "\n",
    "`4740`\n",
    "\n",
    "`dif_segs(cria_rel(10, 2, 34), cria_rel(9, 21, 34))`\n",
    "\n",
    "`ValueError: dif_segs: primeiro arg posterior ao segundo`"
   ]
  },
  {
   "cell_type": "markdown",
   "id": "e4115359",
   "metadata": {},
   "source": [
    "(c) Escolha uma representação interna para o tipo *relógio* recorrendo a listas.\n",
    "\n",
    "(d) Escreva as operações básicas, utilizando a a representação escolhida."
   ]
  },
  {
   "cell_type": "markdown",
   "id": "1e448e6f",
   "metadata": {},
   "source": [
    "(d) Suponha que a representação externa para os elementos do tipo *relógio* é $hh:mm:ss$, em que $hh$ são os dois dígitos que representam as horas, $mm$ são os dois dígitos que identificam os minutos e $ss$ são os dois dígitos que identificam os segundos. Escreva o transformador de saída para o tipo relógio. Por exemplo,\n",
    "\n",
    "`escreve_relogio(cria_relogio(9, 2, 34))`\n",
    "\n",
    "`'09:02:34'`"
   ]
  },
  {
   "cell_type": "markdown",
   "id": "b805fde4",
   "metadata": {},
   "source": [
    "(f) Suponha que altera a representação interna do tipo relógio para um dicionário com as chaves `'horas'`, `'min'` e `'seg'`. O que deverá fazer às funções **escreve_relogio** e **dif_segundos** para que estas sejam usadas com esta nova representação? Justifique a sua resposta."
   ]
  },
  {
   "cell_type": "markdown",
   "id": "b3f194f8",
   "metadata": {},
   "source": [
    "#### 4. \n",
    "Suponha que desejava criar o tipo data. Uma data é caracterizada por um dia (um inteiro entre 1 e 31), um mês (um inteiro entre 1 e 12) e um ano (um inteiro que pode ser positivo, nulo ou negativo). Para cada data, deve ser respeitado o limite de dias de cada mês, incluindo o caso de Fevereiro nos anos bissextos. Recorde que um ano é bissexto se for divisível por 4 e não for divisível por 100, a não ser que seja também divisível por 400. Por exemplo, 1984 é bissexto, 1100 não é, e 2000 é bissexto.\n",
    "\n",
    "O tipo *data* tem as seguintes operações básicas:\n",
    "\n",
    "* ***Construtores***:\n",
    "    * `cria_data`: $\\mathbb N^+\\times \\mathbb N^+\\times\\mathbb Z\\to$ *data*. `cria_data(d, m, a)` tem como valor a data com dia `d`, mês `m` e ano `a`.\n",
    "* ***Seletores***:\n",
    "    * `dia` : *data* $\\to \\mathbb N^+$. `dia(dt)` tem como valor o dia da data `dt`.\n",
    "    * `mes` : *data* $\\to \\mathbb N^+$. `mes(dt)` tem como valor o mês da data `dt`.\n",
    "    * `ano` : *data* $\\to \\mathbb Z$. `ano(dt)` tem como valor o ano da data `dt`.\n",
    "* ***Reconhecedores***:\n",
    "    * `eh_data`: *universal* $\\to$ $\\{$ `True`, `False` $\\}$. `eh_data(arg)` tem o valor `True` se `arg` é uma  data e tem o valor `False` em caso contrário.\n",
    "* ***Testes***:\n",
    "    * `mesmas_datas` : *data*$^2$ $\\to$ $\\{$ `True`, `False` $\\}$. `mesmas_datas(dt1, dt2)` tem o valor `True` se `dt1` e `dt2` corresponderem à mesma data e tem o valor `False` em caso contrário.\n",
    "    \n",
    "(a) Escolha uma representação interna para o tipo *data* usando dicionários.\n",
    "\n",
    "(b) Escreva as operações básicas para a representação escolhida."
   ]
  },
  {
   "cell_type": "markdown",
   "id": "d6b4e89b",
   "metadata": {},
   "source": [
    "(c) Supondo que a representação externa para um elemento do tipo data é `dd/mm/aaaa ee` (em que `dd` representa o dia,`mm` o mês,`aaaa` o ano e `ee` representa a era, a qual é omitida se o ano for maior ou igual a 0 e tem o valor `AC` se o ano for menor que zero), escreva o transformador de saída **escreve_data** para o tipo data. Por exemplo,\n",
    "\n",
    "`escreve_data(cria_data (5, 9, 2018))`\n",
    "\n",
    "`05/09/2018`\n",
    "\n",
    "`escreve_data(cria_data (5, 9, -10))`\n",
    "\n",
    "`'05/09/10 AC'`"
   ]
  },
  {
   "cell_type": "markdown",
   "id": "9943fa63",
   "metadata": {},
   "source": [
    "(d) Defina o predicado **data_anterior** que recebe como argumentos duas datas e tem o valor verdadeiro apenas se a primeira data é anterior à segunda. Por exemplo,\n",
    "\n",
    "`data_anterior(cria_data(2, 1, 2003), cria_data(2, 1, 2005))`\n",
    "\n",
    "`True`"
   ]
  },
  {
   "cell_type": "markdown",
   "id": "0108f0d4",
   "metadata": {},
   "source": [
    "(e) Defina a função **idade** que recebe como argumentos a data de nascimento de uma pessoa e outra data posterior e devolve a idade da pessoa, em anos, na segunda data. Por exemplo,\n",
    "\n",
    "`idade(cria_data(2, 1, 2003), cria_data(1, 1, 2005))`\n",
    "\n",
    "`1`\n",
    "\n",
    "`idade(cria_data(2, 1, 2003), cria_data(1, 2, 2005))`\n",
    "\n",
    "`2`\n",
    "\n",
    "`idade(cria_data(2, 1, 2003), cria_data(1, 2, 2000))`\n",
    "\n",
    "`ValueError: idade: a pessoa ainda não nasceu`"
   ]
  },
  {
   "cell_type": "markdown",
   "id": "e258b465",
   "metadata": {},
   "source": [
    "#### 5. \n",
    "Considere o tipo *time_stamp* para representar um instante de tempo. Um *time_stamp* corresponde a um par constituído por uma *data* e por um *relógio*.\n",
    "\n",
    "As operações básicas para o tipo *time_stamp* são:\n",
    "\n",
    "* ***Construtores***:\n",
    "    * `cria_time_stamp`: *data* $\\times$ *relógio* $\\to$ *time_stamp*. `cria_time_stamp(dt, rel)` tem como valor *time_stamp* com data `dt` e relógio `rel`.\n",
    "* ***Seletores***:\n",
    "    * `data` : *time_stamp* $\\to$ *data*. `data(ts)` tem como valor a *data* do *time_stamp* `ts`.\n",
    "    * `relogio` : *time_stamp* $\\to$ *relógio*. `relogio(ts)` tem como valor o *relógio* do *time_stamp* `ts`.\n",
    "* ***Reconhecedores***:\n",
    "    * `eh_time_stamp`: *universal* $\\to$ $\\{$ `True`, `False` $\\}$. `eh_time_stamp(arg)` tem o valor `True` se `arg` é um *time_stamp* e tem o valor `False` em caso contrário.\n",
    "* ***Testes***:\n",
    "    * `mesmos_time_stamp` : *time_stamp*$^2$ $\\to$ $\\{$ `True`, `False` $\\}$. `mesmos_time_stamp(ts1, ts2)` tem o valor `True` se `ts1` e `ts2` são *time_stamp* com as mesmas *data* e *relógio* e tem o valor `False` em caso contrário.\n",
    "    \n",
    "(a) Escolha uma representação para o tipo time_stamp.\n",
    "\n",
    "(b) Escreva as operações básicas com base na representação escolhida."
   ]
  },
  {
   "cell_type": "markdown",
   "id": "b59c4c26",
   "metadata": {},
   "source": [
    "(c) Escreva o predicado:\n",
    "* `depois_ts` $:$ *time_stamp*$^2\\to \\{$ `True`, `False` $\\}$. `depois_ts(ts1, ts2)` tem o valor `True` apenas se `ts1` for posterior a `ts2`."
   ]
  },
  {
   "cell_type": "markdown",
   "id": "0bed74c4",
   "metadata": {},
   "source": [
    "#### 6. \n",
    "Suponha que desejava criar o tipo *vetor* (centrado na origem). Um vetor centrado na origem num referencial cartesiano pode ser representado pelas coordenadas da sua extremidade $(x, y)$, estando a sua origem no ponto $(0, 0)$, ver figura abaixo. \n",
    "\n",
    "<div>\n",
    "<img src=\"./imgs/vetor.png\" width=\"500\"/>\n",
    "</div>\n",
    "\n",
    "Podemos considerar as seguintes operações básicas para vetores:\n",
    "\n",
    "* ***Construtores***:\n",
    "    * `vetor`: *float*$^2\\to$ *vetor*. `vetor(x,y)` tem como valor o vetor cuja extremidade é o ponto $(x, y)$.\n",
    "* ***Seletores***:\n",
    "    * `abcissa` : *vetor* $\\to$ *float*. `abcissa(v)` tem como valor tem como valor a abcissa da extremidade do vetor `v`. \n",
    "    * `ordenada` : *vetor* $\\to$ *float*. `ordenada(v)` tem como valor tem como valor a ordenada da extremidade do vetor `v`. \n",
    "* ***Reconhecedores***:\n",
    "    * `eh_vetor`: *universal* $\\to$ $\\{$ `True`, `False` $\\}$. `eh_vetor(arg)` tem o valor `True` se `arg` é um  *vetor* e tem o valor `False` em caso contrário.\n",
    "    * `eh_vetor_nulo`: *vetor* $\\to$ $\\{$ `True`, `False` $\\}$. `eh_vetor_nulo(v)` tem o valor `True` se `v` é o  *vetor* nule (i.e., $(0,0)$) e tem o valor `False` em caso contrário.\n",
    "\n",
    "* ***Testes***:\n",
    "    * `vetores_iguais` : *vetor*$^2$ $\\to$ $\\{$ `True`, `False` $\\}$. `vetores_iguais(v1, v2)` tem o valor `True` se `dt1` e `dt2` corresponderem ao mesmo vetor e tem o valor `False` em caso contrário.\n",
    "\n",
    "(a) Defina uma representação para vetores utilizando tuplos.\n",
    "\n",
    "(b) Escreva as operações básicas, de acordo com a representação escolhida."
   ]
  },
  {
   "cell_type": "markdown",
   "id": "07356a75",
   "metadata": {},
   "source": [
    "(c) Escreva uma função **prod_esc** para calcular o produto escalar de dois vetores. O produto escalar dos vetores representados pelos pontos $(a,b)$ e $(c,d)$ é dado pelo real $a\\times c+b\\times d$."
   ]
  }
 ],
 "metadata": {
  "kernelspec": {
   "display_name": "Python 3 (ipykernel)",
   "language": "python",
   "name": "python3"
  },
  "language_info": {
   "codemirror_mode": {
    "name": "ipython",
    "version": 3
   },
   "file_extension": ".py",
   "mimetype": "text/x-python",
   "name": "python",
   "nbconvert_exporter": "python",
   "pygments_lexer": "ipython3",
   "version": "3.8.18"
  }
 },
 "nbformat": 4,
 "nbformat_minor": 5
}
