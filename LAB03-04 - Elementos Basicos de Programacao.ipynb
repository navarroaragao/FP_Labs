{
 "cells": [
  {
   "cell_type": "markdown",
   "id": "35a83cd3",
   "metadata": {},
   "source": [
    "### Fundamentos da Programação - Aula Laboratorial 3 e 4\n",
    "# Elementos Básicos de Programação"
   ]
  },
  {
   "cell_type": "markdown",
   "id": "61f61ee5",
   "metadata": {},
   "source": [
    "## 1. \n",
    "Escreva um programa em Python que pede ao utilizador que lhe forneça dois números (x e y) e que escreve o valor de (x+3\\*y)\\*(x-y). O seu programa deve gerar uma interação como a seguinte:\n",
    "\n",
    "`Vou pedir-lhe dois numeros`\n",
    "\n",
    "`Escreva o primeiro numero, x = 5`\n",
    "\n",
    "`Escreva o segundo numero, y = 6`\n",
    "\n",
    "`O valor de (x+3*y)*(x-y) é: -23`"
   ]
  },
  {
   "cell_type": "markdown",
   "id": "a3b0f909",
   "metadata": {},
   "source": [
    "## 2. \n",
    "Escreva um programa em Python que lê valores correspondentes a uma distância percorrida (em Km) e o tempo necessário para a percorrer (em minutos), e calcula a velocidade média em:\n",
    "\n",
    "1. Km/h\n",
    "\n",
    "2. m/s"
   ]
  },
  {
   "cell_type": "markdown",
   "id": "0158d63d",
   "metadata": {
    "tags": []
   },
   "source": [
    "## 3.\n",
    "Escreva um programa em Python que pede ao utilizador que lhe forneça um inteiro correspondente a um número de segundos e que calcula o número de dias correspondentes a esse número de segundos. O seu programa deve permitir a interação:\n",
    "\n",
    "`Escreva um número de segundos`\n",
    "\n",
    "`? 65432998`\n",
    "\n",
    "`O número de dias correspondentes é 757.32636574074`"
   ]
  },
  {
   "cell_type": "markdown",
   "id": "8d2ed7b1",
   "metadata": {},
   "source": [
    "## 4.\n",
    "Escreva um programa que lê um número inteiro correspondente a um certo número de segundos e que escreve o número de dias, horas, minutos e segundos correspondentes a esse número. Por exemplo,\n",
    "\n",
    "`Escreva o número de segundos 345678`\n",
    "\n",
    "`dias: 4; horas: 0; mins: 1; segs: 18`"
   ]
  },
  {
   "cell_type": "markdown",
   "id": "2c9c85d3",
   "metadata": {},
   "source": [
    "## 5.\n",
    "Escreva um programa em Python que lê cinco números reais e calcula a sua média e o seu desvio padrão. A média, $\\bar x$, e o desvio padrão, $\\sigma$, de $n$ números $x_1,\\ldots, x_n$ são dados respectivamente por:\n",
    "$$\\bar x = \\frac{1}{n}\\sum_{i=1}^{n}x_i\\text{ and }\\sigma=\\sqrt{\\frac{1}{n-1}\\sum_{i=1}^{n}(x_i-\\bar x)^2}.$$\n",
    "A primeira linha do seu programa deve ser `from math import sqrt`. Esta instrução importa a função `sqrt` que calcula a raiz quadrada. Por exemplo,`sqrt(4)` tem o valor `2.0`."
   ]
  },
  {
   "cell_type": "markdown",
   "id": "682b8239",
   "metadata": {},
   "source": [
    "## 6.\n",
    "Escreva um programa em Python que lê três números e que diz qual o maior dos números lidos."
   ]
  },
  {
   "cell_type": "markdown",
   "id": "4852627f",
   "metadata": {},
   "source": [
    "## 7.\n",
    "Escreva um programa em Python que lê o número de horas, que um empregado trabalhou numa dada semana e o seu salário/hora e calcula o ordenado semanal tendo em conta as horas extraordinárias. O salário é calculado do seguinte modo: se o número de horas não exceder 40, então o salário é dado pelo produto do número de horas pelo salário/hora. As horas que excedem as 40 são pagas a dobrar."
   ]
  },
  {
   "cell_type": "markdown",
   "id": "d8710737",
   "metadata": {},
   "source": [
    "## 8. \n",
    "Escreva um programa em Python que pede ao utilizador que lhe forneça uma sucessão de inteiros correspondentes a valores em segundos e que calcula o número de dias correspondentes a cada um desses inteiros. O programa termina quando o utilizador fornece um número negativo. O seu programa deve possibilitar a seguinte interação:\n",
    "\n",
    "`Escreva um número de segundos`\n",
    "\n",
    "`(um número negativo para terminar)`\n",
    "\n",
    "`? 45`\n",
    "\n",
    "`O número de dias correspondente é  0.000520833333333333`\n",
    "\n",
    "`Escreva um número de segundos`\n",
    "\n",
    "`(um número negativo para terminar)`\n",
    "\n",
    "`? 6654441`\n",
    "\n",
    "`O número de dias correspondente é  77.0189930555555`\n",
    "\n",
    "`Escreva um número de segundos`\n",
    "\n",
    "`(um número negativo para terminar)`\n",
    "\n",
    "`? -1234`"
   ]
  },
  {
   "cell_type": "markdown",
   "id": "0080ce89",
   "metadata": {},
   "source": [
    "## 9.\n",
    "Escreva um programa em Python que lê uma sequência de dígitos, sendo cada um dos dígitos fornecido numa linha separada, e calcula o número inteiro composto por esses dígitos, pela ordem fornecida. Para terminar a sequência de dígitos é fornecido ao programa o inteiro $-1$. O seu programa deve permitir a interação:\n",
    "\n",
    "`Escreva um dígito`\n",
    "\n",
    "`(-1 para terminar)` \n",
    "\n",
    "`? 3`\n",
    "\n",
    "`Escreva um dígito`\n",
    "\n",
    "`(-1 para terminar)` \n",
    "\n",
    "`? 2`\n",
    "\n",
    "`Escreva um dígito`\n",
    "\n",
    "`(-1 para terminar)` \n",
    "\n",
    "`? 5`\n",
    "\n",
    "`Escreva um dígito`\n",
    "\n",
    "`(-1 para terminar)` \n",
    "\n",
    "`? 7`\n",
    "\n",
    "`Escreva um dígito`\n",
    "\n",
    "`(-1 para terminar)` \n",
    "\n",
    "`? -1`\n",
    "\n",
    "`O número é: 3257`"
   ]
  },
  {
   "cell_type": "markdown",
   "id": "72f20689",
   "metadata": {},
   "source": [
    "## 10.\n",
    "Escreva um programa em Python que lê um número inteiro positivo e calcula o número obtido do número lido que apenas contém os seus dígitos impares. Por exemplo,\n",
    "\n",
    "`Escreva um inteiro`\n",
    "\n",
    "`? 785554`\n",
    "\n",
    "`Resultado: 7555`"
   ]
  },
  {
   "cell_type": "markdown",
   "id": "b86b0c9a",
   "metadata": {},
   "source": [
    "## 11.\n",
    "Escreva um programa em Python que lê um número inteiro positivo e produz o número correspondente a inverter a ordem dos seus dígitos. Por exemplo,\n",
    "\n",
    "`Escreva um inteiro positivo`\n",
    "\n",
    "`? 7633256`\n",
    "\n",
    "`O número invertido é 6523367`"
   ]
  },
  {
   "cell_type": "markdown",
   "id": "50fd03b0",
   "metadata": {},
   "source": [
    "## 12.\n",
    "Escreva um programa em Python que calcula o valor da soma para um dado valor de $x$ e de $n$:\n",
    "$$s(n) = 1 + x + \\frac{x^2}{2!} + \\frac{x^3}{3!} + \\ldots + \\frac{x^n}{n!} = \\sum_{i=0}^{n}\\frac{x^i}{i!}.$$\n",
    "O seu programa deve ter em atenção que o $i$-ésimo termo da soma pode ser obtido do termo $i-1$-ésimo, multiplicando-o por $\\frac{x}{i}$ $\\left(\\text{e.g., }\\frac{x^{i}}{i!}=\\frac{x^{i-1}}{(i-1)!}\\times\\frac{x}{i}\\right)$. O seu programa deve permitir a interação:\n",
    "\n",
    "`Qual o valor de x` \n",
    "\n",
    "`? 2`\n",
    "\n",
    "`Qual o valor de n`\n",
    "\n",
    "`? 3`\n",
    "\n",
    "`O valor da soma é 6.33333333333333`"
   ]
  },
  {
   "cell_type": "markdown",
   "id": "0213c97e",
   "metadata": {},
   "source": [
    "## 13.\n",
    "Escreva um programa em Python que pede ao utilizador que lhe forneça um número e que escreve a tabuada da multiplicação para esse número. O seu programa deve gerar uma interacção como a seguinte:\n",
    "\n",
    "`Escreva um numero para eu escrever a tabuada da multiplicação`\n",
    "\n",
    "`Num -> 8`\n",
    "\n",
    "`8 x 1 = 8`\n",
    "\n",
    "`8 x 2 = 16`\n",
    "\n",
    "`8 x 3 = 2`\n",
    "\n",
    "`8 x 4 = 32`\n",
    "\n",
    "`8 x 5 = 40`\n",
    "\n",
    "`8 x 6 = 48`\n",
    "\n",
    "`8 x 7 = 56`\n",
    "\n",
    "`8 x 8 = 64`\n",
    "\n",
    "`8 x 9 = 72`\n",
    "\n",
    "`8 x 10 = 80`"
   ]
  },
  {
   "cell_type": "markdown",
   "id": "5bbe8d62",
   "metadata": {},
   "source": [
    "## 14. \n",
    "Escreva um programa que lê um inteiro e calcula a soma dos seus dígitos."
   ]
  },
  {
   "cell_type": "markdown",
   "id": "8d5d0806",
   "metadata": {},
   "source": [
    "## 15.\n",
    "Escreva um programa que lê um número e cria uma capicua cuja primeira metade é o número lido. Por exemplo:\n",
    "\n",
    "`Escreva um número`\n",
    "\n",
    "`-> 347`\n",
    "\n",
    "`347743`"
   ]
  },
  {
   "cell_type": "markdown",
   "id": "2605f60d",
   "metadata": {},
   "source": [
    "## 16.\n",
    "Dado um conjunto de $n$ inteiros representando notas de alunos, escreva um programa em Python para determinar quantos tiveram nota positiva. Modifique o seu programa de modo a também calcular qual a percentagem de notas positivas."
   ]
  },
  {
   "cell_type": "markdown",
   "id": "0c539ee0",
   "metadata": {},
   "source": [
    "## 17.\n",
    "Escreva um programa que lê um número inteiro e determina quantas vezes aparecem dois zeros seguidos. Por exemplo:\n",
    "\n",
    "`Escreva um inteiro`\n",
    "\n",
    "`? 98007640003`\n",
    "\n",
    "`O numero tem  3  zeros seguidos`"
   ]
  },
  {
   "cell_type": "markdown",
   "id": "6602fdf9",
   "metadata": {},
   "source": [
    "## 18.\n",
    "Escreva um programa em Python que lê uma quantia em Euros e calcula o número de notas de 50 €, 20 €, 10 €, 5 € e moedas de 2 €, 1 €, 50 cêntimos, 20 cêntimos, 10 cêntimos, 5 cêntimos, 2 cêntimos e 1 cêntimo, necessário para perfazer, essa quantia, utilizando sempre o máximo número de notas e moedas para cada quantia, da mais elevada, para a mais baixa."
   ]
  },
  {
   "cell_type": "markdown",
   "id": "6575a6be",
   "metadata": {},
   "source": [
    "## 19.\n",
    "Escreva um programa em Python escreve o seguinte:\n",
    "\n",
    "```\n",
    "1 x 8 + 1 = 9\n",
    "12 x 8 + 2 = 98\n",
    "123 x 8 + 3 = 987\n",
    "1234 x 8 + 4 = 9876\n",
    "12345 x 8 + 5 = 98765\n",
    "123456 x 8 + 6 = 987654\n",
    "1234567 x 8 + 7 = 9876543\n",
    "12345678 x 8 + 8 = 98765432\n",
    "123456789 x 8 + 9 = 987654321\n",
    "```\n",
    "\n",
    "Os valores do primeiro termo da multiplicação e o resultado devem ser calculados pelo seu programa."
   ]
  },
  {
   "cell_type": "markdown",
   "id": "fce50f38",
   "metadata": {},
   "source": [
    "## 20.\n",
    "Escreva um programa em Python que lê dois inteiros positivos $m$ e $n$ e devolve o resultado da divisão inteira de $m$ por $n$. Não pode, para este exercício, utilizar as operação aritméticas $\\times, /, //$ e $\\%$."
   ]
  },
  {
   "cell_type": "code",
   "execution_count": null,
   "id": "9f79fc80-f587-4780-83ef-8ae632049310",
   "metadata": {},
   "outputs": [],
   "source": []
  }
 ],
 "metadata": {
  "kernelspec": {
   "display_name": "Python 3 (ipykernel)",
   "language": "python",
   "name": "python3"
  },
  "language_info": {
   "codemirror_mode": {
    "name": "ipython",
    "version": 3
   },
   "file_extension": ".py",
   "mimetype": "text/x-python",
   "name": "python",
   "nbconvert_exporter": "python",
   "pygments_lexer": "ipython3",
   "version": "3.8.18"
  }
 },
 "nbformat": 4,
 "nbformat_minor": 5
}
