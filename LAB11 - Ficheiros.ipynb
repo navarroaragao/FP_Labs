{
 "cells": [
  {
   "cell_type": "markdown",
   "id": "82c8e4d5",
   "metadata": {},
   "source": [
    "### Fundamentos da Programação - Aula Laboratorial 11\n",
    "# Ficheiros\n",
    "\n",
    "#### 1. \n",
    "Escreva a função `conta_linhas` que dada uma cadeia de caracteres correspondente a um nome de um ficheiro, devolve o número de linhas do ficheiro que não estão em branco, ou seja, linhas que apenas têm o caracter de fim de linha."
   ]
  },
  {
   "cell_type": "markdown",
   "id": "1eaf9c3d",
   "metadata": {},
   "source": [
    "#### 2. \n",
    "Escreva uma função `conta_vogais` que recebe uma cadeia de caracteres, que contém o nome de um ficheiro, lê esse ficheiro, linha a linha, e calcula quantas vezes aparece cada uma das vogais. A sua função deve devolver um dicionário cujas chaves são as vogais e os valores associados correspondem ao número de vezes que a vogal aparece no ficheiro. Apenas conte as vogais que são letras minúsculas. Por exemplo,\n",
    "\n",
    "```Python \n",
    "conta_vogais('testevogais.txt')\n",
    "\n",
    "{'a': 36, 'u': 19, 'e': 45, 'i': 16, 'o': 28}\n",
    "```"
   ]
  },
  {
   "cell_type": "markdown",
   "id": "73518ce4",
   "metadata": {},
   "source": [
    "#### 3. \n",
    "Escreva uma função `inverte` que recebe como argumentos os nomes de dois ficheiros, $f_1$ e $f_2$ e que escreve no ficheiro $f_2$ o conteúdo do ficheiro correspondente ao ficheiro $f_1$ por ordem inversa, ou seja, a primeira linha do primeiro ficheiro será a última linha do segundo ficheiro, e assim sucessivamente. "
   ]
  },
  {
   "cell_type": "markdown",
   "id": "c90cd5dd",
   "metadata": {},
   "source": [
    "#### 4. \n",
    "Escreva a função `concatena` que recebe uma lista de cadeias de caracteres, cada uma correspondendo ao nome de um ficheiro, e uma cadeia de caracteres, correspondendo ao nome do ficheiro de saída, e concatena o conteúdo dos primeiros ficheiros no ficheiro de saída. Por exemplo, se o ficheiro `fich1` contiver o texto:\n",
    "\n",
    "*Um ficheiro para fazer uns testes.<br>\n",
    "Este ficheiro contem duas linhas.*\n",
    "\n",
    "e o ficheiro `fich2` contiver o texto:\n",
    "\n",
    "*Outro ficheiro para fazer os mesmos testes.<br>\n",
    "Este ficheiro contem mais uma linha<br>\n",
    "alem desta.*\n",
    "\n",
    "é produzida a seguinte interacção:\n",
    "\n",
    "```Python\n",
    "concatena(['fich1', 'fich2'], 'saida')\n",
    "```\n",
    "\n",
    "em que o ficheiro saida contém o texto:\n",
    "\n",
    "*Um ficheiro para fazer uns testes.<br>\n",
    "Este ficheiro contem duas linhas.<br>\n",
    "Outro ficheiro para fazer os mesmos testes.<br>\n",
    "Este ficheiro contem mais uma linha<br>\n",
    "alem desta.*"
   ]
  },
  {
   "cell_type": "markdown",
   "id": "578b6825",
   "metadata": {},
   "source": [
    "#### 5. \n",
    "Escreva a função `procura` que recebe duas cadeias de caracteres, em que a primeira corresponde a uma palavra a procurar e a segunda contém o nome de um ficheiro. A sua função deve escrever no ecrã as linhas do ficheiro que contêm a palavra a procurar. Por exemplo, se o ficheiro `fich` contiver o texto:\n",
    "\n",
    "*Outro ficheiro para fazer os mesmos testes.<br>\n",
    "Este ficheiro contem mais uma linha<br>\n",
    "alem desta.*\n",
    "\n",
    "é produzida a seguinte interacção:\n",
    "\n",
    "```Python\n",
    "procura('ficheiro', 'fich')\n",
    "\n",
    "\n",
    "'Outro ficheiro para fazer os mesmos testes.'\n",
    "'Este ficheiro contem mais uma linha'\n",
    "```"
   ]
  },
  {
   "cell_type": "markdown",
   "id": "f8e4292d",
   "metadata": {},
   "source": [
    "#### 6. \n",
    "Escreva a função `corta` que recebe duas cadeias de caracteres, uma contendo o nome de um ficheiro de entrada, outra contendo o nome do ficheiro de saída, e um número $n\\in\\mathbb Z_0^+$, e escreve os $n$ primeiros caracteres do ficheiro de entrada no ficheiro de saída, no caso em que o ficheiro contenha mais do que $n$ caracteres, ou, caso contrário, todo o conteúdo do ficheiro de entrada no ficheiro de saída. Por exemplo, se o ficheiro `fich` contiver o texto:\n",
    "\n",
    "*Um ficheiro para fazer uns testes.<br>\n",
    "Este ficheiro contem duas linhas.*\n",
    "\n",
    "é produzida a seguinte interacção:\n",
    "\n",
    "```Python\n",
    "corta('teste', 'saida', 20)\n",
    "```\n",
    "\n",
    "em que o ficheiro saída contém o texto:\n",
    "\n",
    "*Um ficheiro para faz*"
   ]
  },
  {
   "cell_type": "markdown",
   "id": "3c010959",
   "metadata": {},
   "source": [
    "#### 7. \n",
    "Escreva a função `ordena_ficheiro` que recebe como argumento uma cadeia de caracteres correspondendo ao nome de um ficheiro e escreve no ecrã as linhas do ficheiro ordenadas por ordem lexicográfica crescente. Por exemplo, se o ficheiro `fich` contiver o texto:\n",
    "\n",
    "*Outro ficheiro para fazer os mesmos testes.<br>\n",
    "Este ficheiro contem mais uma linha<br>\n",
    "alem desta.*\n",
    "\n",
    "é produzida a seguinte interacção:\n",
    "\n",
    "```Python\n",
    "ordena('fich')\n",
    "\n",
    "'Este ficheiro contem mais uma linha'\n",
    "'Outro ficheiro para fazer os mesmos testes'\n",
    "'alem desta.'\n",
    "```"
   ]
  },
  {
   "cell_type": "markdown",
   "id": "202b6527",
   "metadata": {},
   "source": [
    "#### 8. \n",
    "Escreva a função `divide` que recebe uma cadeia de caracteres, que contém o nome do ficheiro de entrada, e um inteiro $n$ e divide o ficheiro em dois ficheiros, um primeiro, cujo nome é o nome do ficheiro de entrada sufixado de $0$, em que cada linha contém os $n$ primeiros caracteres da correspondente linha do ficheiro, e outro, cujo nome é o nome do ficheiro de entrada sufixado de $1$, em que cada linha contem os restantes caracteres da linha correspondente no ficheiro original. Por exemplo, se o ficheiro `fich` contiver o texto:\n",
    "\n",
    "*Um ficheiro para fazer uns testes.<br>\n",
    "Este ficheiro contem duas linhas.*\n",
    "\n",
    "é produzida a seguinte interacção:\n",
    "\n",
    "```Python\n",
    "divide('fich', 20)\n",
    "```\n",
    "\n",
    "em que o ficheiro `fich0` contém o texto:\n",
    "\n",
    "*Um ficheiro para faz<br>\n",
    "Este ficheiro contem*\n",
    "\n",
    "e o ficheiro `fich1` contém o texto:\n",
    "\n",
    "*er uns testes.<br>\n",
    "duas linhas.*"
   ]
  },
  {
   "cell_type": "markdown",
   "id": "8277eb8b",
   "metadata": {},
   "source": [
    "#### 9. \n",
    "Escreva a função `separa` que recebe uma cadeia de caracteres, que contém o nome do ficheiro de entrada, outra cadeira de caracteres com apenas um caracter e um inteiro $n$ e divide o ficheiro em dois ficheiros, um primeiro, cujo nome é o nome do ficheiro de entrada sufixado de $0$, e outro, cujo nome é o nome do ficheiro de entrada sufixado de $1$. O conteúdo do segundo ficheiro é o mesmo do ficheiro de entrada a que foi retirado o texto de cada linha entre a $n$-ésima ocorrência do caracter, incluindo o caracter, e a $n + 1$-ésima ocorrência do caracter, excluindo o caracter. O primeiro ficheiro tem em cada linha o texto que foi retirado ao texto de entrada para produzir o primeiro texto. Por exemplo, se o ficheiro `fich` contiver o texto:\n",
    "\n",
    "*Outro ficheiro para fazer os mesmos testes.<br>\n",
    "alem desta.<br>\n",
    "Este ficheiro contem mais uma linha*\n",
    "\n",
    "é produzida a seguinte interacção:\n",
    "\n",
    "```Python\n",
    "separa('fich', 'h', 1)\n",
    "```\n",
    "\n",
    "em que o ficheiro `fich0` contém o texto:\n",
    "\n",
    "*Outro fic<br>\n",
    "alem desta.<br>\n",
    "Este fich*\n",
    "\n",
    "e o ficheiro `fich1` contém o texto:\n",
    "\n",
    "*heiro para fazer os mesmos testes.<br>\n",
    "eiro contem mais uma linha*"
   ]
  }
 ],
 "metadata": {
  "kernelspec": {
   "display_name": "Python 3 (ipykernel)",
   "language": "python",
   "name": "python3"
  },
  "language_info": {
   "codemirror_mode": {
    "name": "ipython",
    "version": 3
   },
   "file_extension": ".py",
   "mimetype": "text/x-python",
   "name": "python",
   "nbconvert_exporter": "python",
   "pygments_lexer": "ipython3",
   "version": "3.8.18"
  }
 },
 "nbformat": 4,
 "nbformat_minor": 5
}
